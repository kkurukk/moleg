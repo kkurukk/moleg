{
 "cells": [
  {
   "cell_type": "code",
   "execution_count": 1,
   "id": "b3a4e6b8",
   "metadata": {},
   "outputs": [],
   "source": [
    "import pandas as pd\n",
    "import matplotlib.pyplot as plt\n",
    "%matplotlib inline\n",
    "from wordcloud import WordCloud\n",
    "from konlpy.tag import Hannanum\n",
    "from konlpy.tag import Okt\n",
    "from konlpy.tag import Komoran\n",
    "import sqlite3 as sq3\n",
    "from pandas.io import sql\n",
    "import os\n",
    "import numpy as np\n",
    "import math"
   ]
  },
  {
   "cell_type": "markdown",
   "id": "0edcba21",
   "metadata": {},
   "source": [
    "## read db file"
   ]
  },
  {
   "cell_type": "code",
   "execution_count": 2,
   "id": "d881fc63",
   "metadata": {},
   "outputs": [],
   "source": [
    "# 데이터베이스 저장\n",
    "def db_save(data, db_name, table_name):\n",
    "    with sq3.connect(os.path.join('.',db_name)) as con: # sqlite DB 파일이 존재하지 않는 경우 파일생성\n",
    "        try:\n",
    "            data.to_sql(name = table_name, con = con, index = False, if_exists='replace') \n",
    "            #if_exists : {'fail', 'replace', 'append'} default : fail\n",
    "        except Exception as e:\n",
    "            print(str(e))\n",
    "        print(len(data), '건 저장완료..')"
   ]
  },
  {
   "cell_type": "code",
   "execution_count": 3,
   "id": "0806092e",
   "metadata": {},
   "outputs": [],
   "source": [
    "# 데이터베이스 불러오기\n",
    "def db_select(db_name, table_name):\n",
    "    with sq3.connect(db_name) as con: \n",
    "        try:\n",
    "            query = 'SELECT * FROM {}'.format(table_name)\n",
    "            df = pd.read_sql(query, con = con)\n",
    "        except Exception as e:\n",
    "            print(str(e)) \n",
    "        return df  "
   ]
  },
  {
   "cell_type": "markdown",
   "id": "5a8ae2ef",
   "metadata": {},
   "source": [
    "### Save dictionaries"
   ]
  },
  {
   "cell_type": "code",
   "execution_count": 4,
   "id": "f59a8671",
   "metadata": {},
   "outputs": [],
   "source": [
    "import pickle"
   ]
  },
  {
   "cell_type": "code",
   "execution_count": 5,
   "id": "39f59315",
   "metadata": {},
   "outputs": [],
   "source": [
    "def saveDict(my_dict, file_name):\n",
    "    with open(file_name, \"wb\") as tf:\n",
    "        pickle.dump(my_dict,tf)\n",
    "    print(len(my_dict),' saved to file...')"
   ]
  },
  {
   "cell_type": "code",
   "execution_count": 6,
   "id": "2d6c300d",
   "metadata": {},
   "outputs": [],
   "source": [
    "def readDict(file_name):\n",
    "    new_dict = dict()\n",
    "    with open(file_name, \"rb\") as tf:\n",
    "        new_dict = pickle.load(tf)\n",
    "    return(new_dict)"
   ]
  },
  {
   "cell_type": "markdown",
   "id": "761a05b3",
   "metadata": {},
   "source": [
    "# save word tokens into a file"
   ]
  },
  {
   "cell_type": "code",
   "execution_count": 7,
   "id": "3f0081bc",
   "metadata": {},
   "outputs": [
    {
     "data": {
      "text/html": [
       "<div>\n",
       "<style scoped>\n",
       "    .dataframe tbody tr th:only-of-type {\n",
       "        vertical-align: middle;\n",
       "    }\n",
       "\n",
       "    .dataframe tbody tr th {\n",
       "        vertical-align: top;\n",
       "    }\n",
       "\n",
       "    .dataframe thead th {\n",
       "        text-align: right;\n",
       "    }\n",
       "</style>\n",
       "<table border=\"1\" class=\"dataframe\">\n",
       "  <thead>\n",
       "    <tr style=\"text-align: right;\">\n",
       "      <th></th>\n",
       "      <th>제목</th>\n",
       "      <th>BoW</th>\n",
       "    </tr>\n",
       "  </thead>\n",
       "  <tbody>\n",
       "    <tr>\n",
       "      <th>0</th>\n",
       "      <td>카자흐스탄 대통령, 2023년 최저임금 인상</td>\n",
       "      <td>카자흐스탄,입법동향,카자흐스탄,대통령,최저임금,인상,조마르트,토카예프,카자흐스탄,대...</td>\n",
       "    </tr>\n",
       "    <tr>\n",
       "      <th>1</th>\n",
       "      <td>말레이시아, 개정 고용법 시행 연기</td>\n",
       "      <td>말레이시,입법동향,말레이시아,개정,고용법,시행,연기,시행,개정,고용법,시행,연기,개...</td>\n",
       "    </tr>\n",
       "    <tr>\n",
       "      <th>2</th>\n",
       "      <td>마카오, 원숭이두창을 《전염병 강제신고》 대상으로 지정</td>\n",
       "      <td>마카오,법제동향,마카오,원숭이두창,전염병,강제신고,지정,마카오,카지노,영업중단,사진</td>\n",
       "    </tr>\n",
       "    <tr>\n",
       "      <th>3</th>\n",
       "      <td>형사미성년자에 대한 세계 각국의 연령 기준 및 관련 법령</td>\n",
       "      <td>형사미성년자,세계,각국,연령,기준,법령,우리나라,미만,자형사미성년자,범죄,조각,형법...</td>\n",
       "    </tr>\n",
       "    <tr>\n",
       "      <th>4</th>\n",
       "      <td>독일, 기업조직재편에 관한 유럽연합지침의 국내도입을 위한 법안 결의</td>\n",
       "      <td>입법동향,기업조직재편,유럽연합지침,국내도입,법안,유럽,기업,형태변경,합병,분할,유럽...</td>\n",
       "    </tr>\n",
       "    <tr>\n",
       "      <th>...</th>\n",
       "      <td>...</td>\n",
       "      <td>...</td>\n",
       "    </tr>\n",
       "    <tr>\n",
       "      <th>1995</th>\n",
       "      <td>이주법 공포</td>\n",
       "      <td>멕시코입법동향,이주법,공포,펠리페,칼데론,이노호사Felipe,Calderón,멕시코...</td>\n",
       "    </tr>\n",
       "    <tr>\n",
       "      <th>1996</th>\n",
       "      <td>노선 택시 정비 방안 채택</td>\n",
       "      <td>우즈베키스탄,입법동향,노선,택시,정비,방안,채택,우즈베키스탄,공화국,노선,택시,외관...</td>\n",
       "    </tr>\n",
       "    <tr>\n",
       "      <th>1997</th>\n",
       "      <td>부동산업 면허증제 도입</td>\n",
       "      <td>우즈베키스탄,입법동향,부동산업,면허증제,도입,우즈베키스탄,정부,시행,부동산업,면허,...</td>\n",
       "    </tr>\n",
       "    <tr>\n",
       "      <th>1998</th>\n",
       "      <td>벨라루스와 우즈베키스탄 국제 자동차 운송 허가 쿼터 동의</td>\n",
       "      <td>우즈베키스탄,입법동향,벨라루스,우즈베키스탄,국제,자동차,운송,허가,쿼터,벨라루스,우...</td>\n",
       "    </tr>\n",
       "    <tr>\n",
       "      <th>1999</th>\n",
       "      <td>주민들에게 정보를 은폐한 주택 관리회사의 행정 책임 부여 논의</td>\n",
       "      <td>러시아,입법동향,주민들,정보,은폐,주택,관리회사,행정,관리회사,주민들,정보,은폐,벌...</td>\n",
       "    </tr>\n",
       "  </tbody>\n",
       "</table>\n",
       "<p>2000 rows × 2 columns</p>\n",
       "</div>"
      ],
      "text/plain": [
       "                                         제목  \\\n",
       "0                  카자흐스탄 대통령, 2023년 최저임금 인상   \n",
       "1                       말레이시아, 개정 고용법 시행 연기   \n",
       "2            마카오, 원숭이두창을 《전염병 강제신고》 대상으로 지정   \n",
       "3           형사미성년자에 대한 세계 각국의 연령 기준 및 관련 법령   \n",
       "4     독일, 기업조직재편에 관한 유럽연합지침의 국내도입을 위한 법안 결의   \n",
       "...                                     ...   \n",
       "1995                                 이주법 공포   \n",
       "1996                         노선 택시 정비 방안 채택   \n",
       "1997                           부동산업 면허증제 도입   \n",
       "1998        벨라루스와 우즈베키스탄 국제 자동차 운송 허가 쿼터 동의   \n",
       "1999     주민들에게 정보를 은폐한 주택 관리회사의 행정 책임 부여 논의   \n",
       "\n",
       "                                                    BoW  \n",
       "0     카자흐스탄,입법동향,카자흐스탄,대통령,최저임금,인상,조마르트,토카예프,카자흐스탄,대...  \n",
       "1     말레이시,입법동향,말레이시아,개정,고용법,시행,연기,시행,개정,고용법,시행,연기,개...  \n",
       "2        마카오,법제동향,마카오,원숭이두창,전염병,강제신고,지정,마카오,카지노,영업중단,사진  \n",
       "3     형사미성년자,세계,각국,연령,기준,법령,우리나라,미만,자형사미성년자,범죄,조각,형법...  \n",
       "4     입법동향,기업조직재편,유럽연합지침,국내도입,법안,유럽,기업,형태변경,합병,분할,유럽...  \n",
       "...                                                 ...  \n",
       "1995  멕시코입법동향,이주법,공포,펠리페,칼데론,이노호사Felipe,Calderón,멕시코...  \n",
       "1996  우즈베키스탄,입법동향,노선,택시,정비,방안,채택,우즈베키스탄,공화국,노선,택시,외관...  \n",
       "1997  우즈베키스탄,입법동향,부동산업,면허증제,도입,우즈베키스탄,정부,시행,부동산업,면허,...  \n",
       "1998  우즈베키스탄,입법동향,벨라루스,우즈베키스탄,국제,자동차,운송,허가,쿼터,벨라루스,우...  \n",
       "1999  러시아,입법동향,주민들,정보,은폐,주택,관리회사,행정,관리회사,주민들,정보,은폐,벌...  \n",
       "\n",
       "[2000 rows x 2 columns]"
      ]
     },
     "execution_count": 7,
     "metadata": {},
     "output_type": "execute_result"
    }
   ],
   "source": [
    "df = db_select('법제동향DB.db', '법제토큰')\n",
    "df1 = df.iloc[:,[0,5]].copy()\n",
    "df1"
   ]
  },
  {
   "cell_type": "markdown",
   "id": "6a70e900",
   "metadata": {},
   "source": [
    "# 단어의 총 등장 횟수 구하기 --> TF"
   ]
  },
  {
   "cell_type": "code",
   "execution_count": 8,
   "id": "1df3d3ad",
   "metadata": {},
   "outputs": [],
   "source": [
    "def dict_each(string):\n",
    "    each_art = dict()     # dictionary for each article\n",
    "    temp_list = []        # temporary list for the word tokens\n",
    "    \n",
    "    for i in string.split(','):\n",
    "        temp_list.append(i)\n",
    "\n",
    "    for each_t in temp_list:\n",
    "        if each_t in each_art.keys():\n",
    "            each_art[each_t] += 1\n",
    "        else :\n",
    "            each_art[each_t] = 1\n",
    "            \n",
    "    t_list = sorted(each_art.items(), key=lambda x:x[1], reverse=True)\n",
    "    each_TF = dict(t_list)\n",
    "    return each_TF"
   ]
  },
  {
   "cell_type": "code",
   "execution_count": 9,
   "id": "d9a5e227",
   "metadata": {},
   "outputs": [
    {
     "data": {
      "text/plain": [
       "2000"
      ]
     },
     "execution_count": 9,
     "metadata": {},
     "output_type": "execute_result"
    }
   ],
   "source": [
    "total_TF = []\n",
    "\n",
    "for i in df1.iloc[:,1]:\n",
    "    tokens_const = []\n",
    "    total_TF.append(dict_each(i))\n",
    "\n",
    "len(total_TF)"
   ]
  },
  {
   "cell_type": "code",
   "execution_count": 10,
   "id": "dd89d322",
   "metadata": {},
   "outputs": [],
   "source": [
    "#saveDict(total_TF,'TF_file.pkl')\n",
    "#saveDict(total_TF,'TF-IDF_file.pkl')"
   ]
  },
  {
   "cell_type": "code",
   "execution_count": 11,
   "id": "7f576bf4",
   "metadata": {},
   "outputs": [],
   "source": [
    "#TF_new = readDict('TF_file.pkl')\n",
    "DF = readDict('DF_file.pkl')"
   ]
  },
  {
   "cell_type": "markdown",
   "id": "a0303ccd",
   "metadata": {},
   "source": [
    "# TF-IDF\n",
    "##### 참고: https://brunch.co.kr/@bflysoft1117/127, https://www.researchgate.net/publication/342833072_gujojeog_topig_modelling-eul_hwal-yonghan_gong-gongdeiteo_suyo_bunseog_Analysis_of_Open_Government_Data_Demand_Using_Structural_Topic_Modeling\n",
    "높을수록 단어 중요도가 높다\n",
    "### TF-IDF = TF X log(N/DF)\n",
    "- TF: 문서 내 특정 단어의 빈도 수\n",
    "- N: 분석 대상 문서 통합\n",
    "- DF: 특정 단어를 포함하는 문서빈도 수"
   ]
  },
  {
   "cell_type": "code",
   "execution_count": 12,
   "id": "06245f47",
   "metadata": {},
   "outputs": [],
   "source": [
    "def TF_IDF_each(dct):\n",
    "    TF_IDF_i = dict()     # dictionary to save TF-IDF values\n",
    "    \n",
    "    for eachkey in list(dct.keys()):\n",
    "        TF_temp = dct[eachkey]\n",
    "        DF_temp = DF[eachkey]\n",
    "        TF_IDF_1 = TF_temp*math.log(N/DF_temp)\n",
    "        TF_IDF_i[eachkey] = TF_IDF_1\n",
    "\n",
    "    temp_tf_idf = sorted(TF_IDF_i.items(), key=lambda x:x[1], reverse=True)\n",
    "    TF_IDF_temp = dict(temp_tf_idf)\n",
    "    return TF_IDF_temp"
   ]
  },
  {
   "cell_type": "code",
   "execution_count": 13,
   "id": "a1b0aae1",
   "metadata": {
    "scrolled": true
   },
   "outputs": [],
   "source": [
    "TF_IDF = []     # dictionary to save TF-IDF values\n",
    "\n",
    "N = len(df1)\n",
    "for each_article in total_TF:\n",
    "    each_TI = TF_IDF_each(each_article)\n",
    "    TF_IDF.append(each_TI)"
   ]
  },
  {
   "cell_type": "markdown",
   "id": "7c536f5e",
   "metadata": {},
   "source": [
    "# Find the 10 keywords of the first article\n",
    "- ordered by importance"
   ]
  },
  {
   "cell_type": "code",
   "execution_count": 14,
   "id": "a44c3413",
   "metadata": {},
   "outputs": [],
   "source": [
    "def get_each_keywords(dictionary):\n",
    "    keyword_s = \"\"\n",
    "    \n",
    "    temp_list = sorted(dictionary.items(), key=lambda x:x[1], reverse=True)\n",
    "    temp_2 = dict(temp_list)\n",
    "    keywords = list(temp_2.keys())[:10]\n",
    "    keyword_s = ','.join(keywords)\n",
    "    \n",
    "    return keyword_s"
   ]
  },
  {
   "cell_type": "code",
   "execution_count": 15,
   "id": "f01f32a0",
   "metadata": {},
   "outputs": [
    {
     "data": {
      "text/html": [
       "<div>\n",
       "<style scoped>\n",
       "    .dataframe tbody tr th:only-of-type {\n",
       "        vertical-align: middle;\n",
       "    }\n",
       "\n",
       "    .dataframe tbody tr th {\n",
       "        vertical-align: top;\n",
       "    }\n",
       "\n",
       "    .dataframe thead th {\n",
       "        text-align: right;\n",
       "    }\n",
       "</style>\n",
       "<table border=\"1\" class=\"dataframe\">\n",
       "  <thead>\n",
       "    <tr style=\"text-align: right;\">\n",
       "      <th></th>\n",
       "      <th>제목</th>\n",
       "      <th>국가</th>\n",
       "      <th>등록일자</th>\n",
       "      <th>조회수</th>\n",
       "      <th>본문내용</th>\n",
       "      <th>BoW</th>\n",
       "      <th>키워드10개</th>\n",
       "    </tr>\n",
       "  </thead>\n",
       "  <tbody>\n",
       "    <tr>\n",
       "      <th>0</th>\n",
       "      <td>카자흐스탄 대통령, 2023년 최저임금 인상</td>\n",
       "      <td>카자흐스탄</td>\n",
       "      <td>2022.09.08.</td>\n",
       "      <td>95</td>\n",
       "      <td>카자흐스탄 입법동향 카자흐스탄 대통령 2023년 최저임금 인상  카심 조마르트 토카...</td>\n",
       "      <td>카자흐스탄,입법동향,카자흐스탄,대통령,최저임금,인상,조마르트,토카예프,카자흐스탄,대...</td>\n",
       "      <td>최저임금,인상,텡게한화,카자흐스탄,조마르트,토카예프,연례연설,텡게,초빙,기초사회보장기준</td>\n",
       "    </tr>\n",
       "    <tr>\n",
       "      <th>1</th>\n",
       "      <td>말레이시아, 개정 고용법 시행 연기</td>\n",
       "      <td>말레이시아</td>\n",
       "      <td>2022.09.05.</td>\n",
       "      <td>342</td>\n",
       "      <td>말레이시아 입법동향 말레이시아 개정 고용법 시행 연기 9월 1일 자로 시행 예정이었...</td>\n",
       "      <td>말레이시,입법동향,말레이시아,개정,고용법,시행,연기,시행,개정,고용법,시행,연기,개...</td>\n",
       "      <td>고용법,연기,시행,사라바난,인적자원부,유연근무제,국면,법정근로시간,출산휴가,왕실</td>\n",
       "    </tr>\n",
       "    <tr>\n",
       "      <th>2</th>\n",
       "      <td>마카오, 원숭이두창을 《전염병 강제신고》 대상으로 지정</td>\n",
       "      <td>중국 마카오특별행정구</td>\n",
       "      <td>2022.08.01.</td>\n",
       "      <td>887</td>\n",
       "      <td>마카오 법제동향  마카오 원숭이두창을 전염병 강제신고 대상으로 지정  마카오 카지노...</td>\n",
       "      <td>마카오,법제동향,마카오,원숭이두창,전염병,강제신고,지정,마카오,카지노,영업중단,사진</td>\n",
       "      <td>마카오,원숭이두창,강제신고,영업중단,카지노,전염병,사진,지정,법제동향</td>\n",
       "    </tr>\n",
       "    <tr>\n",
       "      <th>3</th>\n",
       "      <td>형사미성년자에 대한 세계 각국의 연령 기준 및 관련 법령</td>\n",
       "      <td>World</td>\n",
       "      <td>2022.07.22.</td>\n",
       "      <td>1797</td>\n",
       "      <td>형사미성년자에 대한 세계 각국의 연령 기준 및 관련 법령 우리나라 형법제9조에 의하...</td>\n",
       "      <td>형사미성년자,세계,각국,연령,기준,법령,우리나라,미만,자형사미성년자,범죄,조각,형법...</td>\n",
       "      <td>미만,형사미성년자,범죄,아동,연령,소년,미성년자,형사책임능력,저촉,소년법</td>\n",
       "    </tr>\n",
       "    <tr>\n",
       "      <th>4</th>\n",
       "      <td>독일, 기업조직재편에 관한 유럽연합지침의 국내도입을 위한 법안 결의</td>\n",
       "      <td>독일</td>\n",
       "      <td>2022.07.14.</td>\n",
       "      <td>1194</td>\n",
       "      <td>독일 입법동향  독일 기업조직재편에 관한 유럽연합지침의 국내도입을 위한 법안 결의 ...</td>\n",
       "      <td>입법동향,기업조직재편,유럽연합지침,국내도입,법안,유럽,기업,형태변경,합병,분할,유럽...</td>\n",
       "      <td>합병,형태변경,소액주주,조직재편,초월,국내법,주식,주식회사,국경,유럽</td>\n",
       "    </tr>\n",
       "    <tr>\n",
       "      <th>...</th>\n",
       "      <td>...</td>\n",
       "      <td>...</td>\n",
       "      <td>...</td>\n",
       "      <td>...</td>\n",
       "      <td>...</td>\n",
       "      <td>...</td>\n",
       "      <td>...</td>\n",
       "    </tr>\n",
       "    <tr>\n",
       "      <th>1995</th>\n",
       "      <td>이주법 공포</td>\n",
       "      <td>멕시코</td>\n",
       "      <td>2011.05.31.</td>\n",
       "      <td>1832</td>\n",
       "      <td>멕시코입법동향 이주법 공포 2011 0524  펠리페 칼데론 이노호사Felipe C...</td>\n",
       "      <td>멕시코입법동향,이주법,공포,펠리페,칼데론,이노호사Felipe,Calderón,멕시코...</td>\n",
       "      <td>이주법,이주,여건,멕시코,이노호사Felipe,로스,피노스Los,별개,결과물,민간단체</td>\n",
       "    </tr>\n",
       "    <tr>\n",
       "      <th>1996</th>\n",
       "      <td>노선 택시 정비 방안 채택</td>\n",
       "      <td>우즈베키스탄</td>\n",
       "      <td>2011.05.31.</td>\n",
       "      <td>1648</td>\n",
       "      <td>우즈베키스탄 입법동향  노선 택시 정비 방안 채택 2011년 5월 31일 2012년...</td>\n",
       "      <td>우즈베키스탄,입법동향,노선,택시,정비,방안,채택,우즈베키스탄,공화국,노선,택시,외관...</td>\n",
       "      <td>택시,노선,번호,차량,우즈베키스탄,승객,강제,ТАХI,앞문,운송회사</td>\n",
       "    </tr>\n",
       "    <tr>\n",
       "      <th>1997</th>\n",
       "      <td>부동산업 면허증제 도입</td>\n",
       "      <td>우즈베키스탄</td>\n",
       "      <td>2011.05.31.</td>\n",
       "      <td>1518</td>\n",
       "      <td>우즈베키스탄 입법동향  부동산업 면허증제 도입 2011년 5월 31일  우즈베키스탄...</td>\n",
       "      <td>우즈베키스탄,입법동향,부동산업,면허증제,도입,우즈베키스탄,정부,시행,부동산업,면허,...</td>\n",
       "      <td>부동산업,부동산,최저급여액,물건,면허,자본금,정관,컨설팅,종사,수탁</td>\n",
       "    </tr>\n",
       "    <tr>\n",
       "      <th>1998</th>\n",
       "      <td>벨라루스와 우즈베키스탄 국제 자동차 운송 허가 쿼터 동의</td>\n",
       "      <td>우즈베키스탄</td>\n",
       "      <td>2011.05.31.</td>\n",
       "      <td>1457</td>\n",
       "      <td>우즈베키스탄 입법동향   벨라루스와 우즈베키스탄 국제 자동차 운송 허가 쿼터 동의 ...</td>\n",
       "      <td>우즈베키스탄,입법동향,벨라루스,우즈베키스탄,국제,자동차,운송,허가,쿼터,벨라루스,우...</td>\n",
       "      <td>벨라루스,우즈베키스탄,운송,자동차,국제,허가서,쿼터,운송량,협력,교역</td>\n",
       "    </tr>\n",
       "    <tr>\n",
       "      <th>1999</th>\n",
       "      <td>주민들에게 정보를 은폐한 주택 관리회사의 행정 책임 부여 논의</td>\n",
       "      <td>러시아</td>\n",
       "      <td>2011.05.30.</td>\n",
       "      <td>983</td>\n",
       "      <td>러시아 입법동향  주민들에게 정보를 은폐한 주택 관리회사의 행정 책임 부여 논의 ...</td>\n",
       "      <td>러시아,입법동향,주민들,정보,은폐,주택,관리회사,행정,관리회사,주민들,정보,은폐,벌...</td>\n",
       "      <td>관리회사,정보,은폐,거짓,주민들,아파트,행정위반법,작업,비용,주택법</td>\n",
       "    </tr>\n",
       "  </tbody>\n",
       "</table>\n",
       "<p>2000 rows × 7 columns</p>\n",
       "</div>"
      ],
      "text/plain": [
       "                                         제목           국가         등록일자   조회수  \\\n",
       "0                  카자흐스탄 대통령, 2023년 최저임금 인상        카자흐스탄  2022.09.08.    95   \n",
       "1                       말레이시아, 개정 고용법 시행 연기        말레이시아  2022.09.05.   342   \n",
       "2            마카오, 원숭이두창을 《전염병 강제신고》 대상으로 지정  중국 마카오특별행정구  2022.08.01.   887   \n",
       "3           형사미성년자에 대한 세계 각국의 연령 기준 및 관련 법령        World  2022.07.22.  1797   \n",
       "4     독일, 기업조직재편에 관한 유럽연합지침의 국내도입을 위한 법안 결의           독일  2022.07.14.  1194   \n",
       "...                                     ...          ...          ...   ...   \n",
       "1995                                 이주법 공포          멕시코  2011.05.31.  1832   \n",
       "1996                         노선 택시 정비 방안 채택       우즈베키스탄  2011.05.31.  1648   \n",
       "1997                           부동산업 면허증제 도입       우즈베키스탄  2011.05.31.  1518   \n",
       "1998        벨라루스와 우즈베키스탄 국제 자동차 운송 허가 쿼터 동의       우즈베키스탄  2011.05.31.  1457   \n",
       "1999     주민들에게 정보를 은폐한 주택 관리회사의 행정 책임 부여 논의          러시아  2011.05.30.   983   \n",
       "\n",
       "                                                   본문내용  \\\n",
       "0     카자흐스탄 입법동향 카자흐스탄 대통령 2023년 최저임금 인상  카심 조마르트 토카...   \n",
       "1     말레이시아 입법동향 말레이시아 개정 고용법 시행 연기 9월 1일 자로 시행 예정이었...   \n",
       "2     마카오 법제동향  마카오 원숭이두창을 전염병 강제신고 대상으로 지정  마카오 카지노...   \n",
       "3     형사미성년자에 대한 세계 각국의 연령 기준 및 관련 법령 우리나라 형법제9조에 의하...   \n",
       "4     독일 입법동향  독일 기업조직재편에 관한 유럽연합지침의 국내도입을 위한 법안 결의 ...   \n",
       "...                                                 ...   \n",
       "1995  멕시코입법동향 이주법 공포 2011 0524  펠리페 칼데론 이노호사Felipe C...   \n",
       "1996  우즈베키스탄 입법동향  노선 택시 정비 방안 채택 2011년 5월 31일 2012년...   \n",
       "1997  우즈베키스탄 입법동향  부동산업 면허증제 도입 2011년 5월 31일  우즈베키스탄...   \n",
       "1998  우즈베키스탄 입법동향   벨라루스와 우즈베키스탄 국제 자동차 운송 허가 쿼터 동의 ...   \n",
       "1999   러시아 입법동향  주민들에게 정보를 은폐한 주택 관리회사의 행정 책임 부여 논의 ...   \n",
       "\n",
       "                                                    BoW  \\\n",
       "0     카자흐스탄,입법동향,카자흐스탄,대통령,최저임금,인상,조마르트,토카예프,카자흐스탄,대...   \n",
       "1     말레이시,입법동향,말레이시아,개정,고용법,시행,연기,시행,개정,고용법,시행,연기,개...   \n",
       "2        마카오,법제동향,마카오,원숭이두창,전염병,강제신고,지정,마카오,카지노,영업중단,사진   \n",
       "3     형사미성년자,세계,각국,연령,기준,법령,우리나라,미만,자형사미성년자,범죄,조각,형법...   \n",
       "4     입법동향,기업조직재편,유럽연합지침,국내도입,법안,유럽,기업,형태변경,합병,분할,유럽...   \n",
       "...                                                 ...   \n",
       "1995  멕시코입법동향,이주법,공포,펠리페,칼데론,이노호사Felipe,Calderón,멕시코...   \n",
       "1996  우즈베키스탄,입법동향,노선,택시,정비,방안,채택,우즈베키스탄,공화국,노선,택시,외관...   \n",
       "1997  우즈베키스탄,입법동향,부동산업,면허증제,도입,우즈베키스탄,정부,시행,부동산업,면허,...   \n",
       "1998  우즈베키스탄,입법동향,벨라루스,우즈베키스탄,국제,자동차,운송,허가,쿼터,벨라루스,우...   \n",
       "1999  러시아,입법동향,주민들,정보,은폐,주택,관리회사,행정,관리회사,주민들,정보,은폐,벌...   \n",
       "\n",
       "                                                키워드10개  \n",
       "0     최저임금,인상,텡게한화,카자흐스탄,조마르트,토카예프,연례연설,텡게,초빙,기초사회보장기준  \n",
       "1         고용법,연기,시행,사라바난,인적자원부,유연근무제,국면,법정근로시간,출산휴가,왕실  \n",
       "2               마카오,원숭이두창,강제신고,영업중단,카지노,전염병,사진,지정,법제동향  \n",
       "3             미만,형사미성년자,범죄,아동,연령,소년,미성년자,형사책임능력,저촉,소년법  \n",
       "4               합병,형태변경,소액주주,조직재편,초월,국내법,주식,주식회사,국경,유럽  \n",
       "...                                                ...  \n",
       "1995    이주법,이주,여건,멕시코,이노호사Felipe,로스,피노스Los,별개,결과물,민간단체  \n",
       "1996             택시,노선,번호,차량,우즈베키스탄,승객,강제,ТАХI,앞문,운송회사  \n",
       "1997             부동산업,부동산,최저급여액,물건,면허,자본금,정관,컨설팅,종사,수탁  \n",
       "1998            벨라루스,우즈베키스탄,운송,자동차,국제,허가서,쿼터,운송량,협력,교역  \n",
       "1999             관리회사,정보,은폐,거짓,주민들,아파트,행정위반법,작업,비용,주택법  \n",
       "\n",
       "[2000 rows x 7 columns]"
      ]
     },
     "execution_count": 15,
     "metadata": {},
     "output_type": "execute_result"
    }
   ],
   "source": [
    "TF_IDF_final = []\n",
    "\n",
    "for each in TF_IDF:\n",
    "    TF_IDF_final.append(get_each_keywords(each))\n",
    "    \n",
    "df['키워드10개'] = TF_IDF_final\n",
    "df_finalized = df.drop(['tokens','counts'], axis=1)\n",
    "df_finalized"
   ]
  },
  {
   "cell_type": "code",
   "execution_count": 16,
   "id": "2053af2f",
   "metadata": {},
   "outputs": [
    {
     "name": "stdout",
     "output_type": "stream",
     "text": [
      "2000 건 저장완료..\n"
     ]
    }
   ],
   "source": [
    "db_save(df_finalized, '법제동향DB.db', '키워드')"
   ]
  }
 ],
 "metadata": {
  "kernelspec": {
   "display_name": "Python 3 (ipykernel)",
   "language": "python",
   "name": "python3"
  },
  "language_info": {
   "codemirror_mode": {
    "name": "ipython",
    "version": 3
   },
   "file_extension": ".py",
   "mimetype": "text/x-python",
   "name": "python",
   "nbconvert_exporter": "python",
   "pygments_lexer": "ipython3",
   "version": "3.9.12"
  }
 },
 "nbformat": 4,
 "nbformat_minor": 5
}
