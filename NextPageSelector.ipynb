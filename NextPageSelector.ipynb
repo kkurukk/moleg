{
 "cells": [
  {
   "cell_type": "markdown",
   "id": "4b7eeafe",
   "metadata": {},
   "source": [
    "# go to next page"
   ]
  },
  {
   "cell_type": "code",
   "execution_count": 2,
   "id": "6f8a857c",
   "metadata": {},
   "outputs": [
    {
     "ename": "SyntaxError",
     "evalue": "'return' outside function (1348196754.py, line 10)",
     "output_type": "error",
     "traceback": [
      "\u001b[1;36m  Input \u001b[1;32mIn [2]\u001b[1;36m\u001b[0m\n\u001b[1;33m    return(url_list)\u001b[0m\n\u001b[1;37m    ^\u001b[0m\n\u001b[1;31mSyntaxError\u001b[0m\u001b[1;31m:\u001b[0m 'return' outside function\n"
     ]
    }
   ],
   "source": [
    "if (len(url_list) >=0 & len(url_list)%10 == 0):\n",
    "                    \n",
    "            page_num = 5\n",
    "            for j in range(2,page_num+1):\n",
    "                xpath = '//*[@id=\"contents\"]/article/div[4]/div[2]/ul/li[{}]/button'.format(j)  # path 설정\n",
    "                eList = driver.find_element(by=By.XPATH, value = xpath).click()  # path에 해당하는 곳 클릭\n",
    "                page = page + 1\n",
    "                         \n",
    "                if (page >= max_page):\n",
    "                    return(url_list)\n",
    "                    \n",
    "                time.sleep(2)\n",
    "\n",
    "                if j % 5 == 0:\n",
    "                    xpath = '//*[@id=\"contents\"]/article/div[4]/div[2]/button[3]'\n",
    "                    eList = driver.find_element(by=By.XPATH, value = xpath).click()\n",
    "                    page = page + 1\n",
    "                               \n",
    "                    if (page >= max_page):\n",
    "                        return(url_list)\n",
    "                    \n",
    "                    time.sleep(2)"
   ]
  }
 ],
 "metadata": {
  "kernelspec": {
   "display_name": "Python 3 (ipykernel)",
   "language": "python",
   "name": "python3"
  },
  "language_info": {
   "codemirror_mode": {
    "name": "ipython",
    "version": 3
   },
   "file_extension": ".py",
   "mimetype": "text/x-python",
   "name": "python",
   "nbconvert_exporter": "python",
   "pygments_lexer": "ipython3",
   "version": "3.9.12"
  }
 },
 "nbformat": 4,
 "nbformat_minor": 5
}
