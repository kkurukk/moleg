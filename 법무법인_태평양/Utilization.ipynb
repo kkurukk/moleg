{
 "cells": [
  {
   "cell_type": "code",
   "execution_count": 1,
   "id": "b3a4e6b8",
   "metadata": {},
   "outputs": [],
   "source": [
    "import pandas as pd\n",
    "import matplotlib.pyplot as plt\n",
    "%matplotlib inline\n",
    "from wordcloud import WordCloud\n",
    "from konlpy.tag import Hannanum\n",
    "from konlpy.tag import Okt\n",
    "from konlpy.tag import Komoran\n",
    "import sqlite3 as sq3\n",
    "from pandas.io import sql\n",
    "import os\n",
    "import numpy as np\n",
    "import math"
   ]
  },
  {
   "cell_type": "markdown",
   "id": "0edcba21",
   "metadata": {},
   "source": [
    "## read db file"
   ]
  },
  {
   "cell_type": "code",
   "execution_count": 2,
   "id": "d881fc63",
   "metadata": {},
   "outputs": [],
   "source": [
    "# 데이터베이스 저장\n",
    "def db_save(data, db_name, table_name):\n",
    "    with sq3.connect(os.path.join('.',db_name)) as con: # sqlite DB 파일이 존재하지 않는 경우 파일생성\n",
    "        try:\n",
    "            data.to_sql(name = table_name, con = con, index = False, if_exists='replace') \n",
    "            #if_exists : {'fail', 'replace', 'append'} default : fail\n",
    "        except Exception as e:\n",
    "            print(str(e))\n",
    "        print(len(data), '건 저장완료..')"
   ]
  },
  {
   "cell_type": "code",
   "execution_count": 3,
   "id": "0806092e",
   "metadata": {},
   "outputs": [],
   "source": [
    "# 데이터베이스 불러오기\n",
    "def db_select(db_name, table_name):\n",
    "    with sq3.connect(db_name) as con: \n",
    "        try:\n",
    "            query = 'SELECT * FROM {}'.format(table_name)\n",
    "            df = pd.read_sql(query, con = con)\n",
    "        except Exception as e:\n",
    "            print(str(e)) \n",
    "        return df  "
   ]
  },
  {
   "cell_type": "markdown",
   "id": "5a8ae2ef",
   "metadata": {},
   "source": [
    "### Save dictionaries"
   ]
  },
  {
   "cell_type": "code",
   "execution_count": 4,
   "id": "f59a8671",
   "metadata": {},
   "outputs": [],
   "source": [
    "import pickle"
   ]
  },
  {
   "cell_type": "code",
   "execution_count": 5,
   "id": "39f59315",
   "metadata": {},
   "outputs": [],
   "source": [
    "def saveDict(my_dict, file_name):\n",
    "    with open(file_name, \"wb\") as tf:\n",
    "        pickle.dump(my_dict,tf)\n",
    "    print(len(my_dict),' saved to file...')"
   ]
  },
  {
   "cell_type": "code",
   "execution_count": 6,
   "id": "2d6c300d",
   "metadata": {},
   "outputs": [],
   "source": [
    "def readDict(file_name):\n",
    "    new_dict = dict()\n",
    "    with open(file_name, \"rb\") as tf:\n",
    "        new_dict = pickle.load(tf)\n",
    "    return(new_dict)"
   ]
  },
  {
   "cell_type": "markdown",
   "id": "761a05b3",
   "metadata": {},
   "source": [
    "# save word tokens into a file"
   ]
  },
  {
   "cell_type": "code",
   "execution_count": 7,
   "id": "3f0081bc",
   "metadata": {
    "scrolled": false
   },
   "outputs": [
    {
     "data": {
      "text/html": [
       "<div>\n",
       "<style scoped>\n",
       "    .dataframe tbody tr th:only-of-type {\n",
       "        vertical-align: middle;\n",
       "    }\n",
       "\n",
       "    .dataframe tbody tr th {\n",
       "        vertical-align: top;\n",
       "    }\n",
       "\n",
       "    .dataframe thead th {\n",
       "        text-align: right;\n",
       "    }\n",
       "</style>\n",
       "<table border=\"1\" class=\"dataframe\">\n",
       "  <thead>\n",
       "    <tr style=\"text-align: right;\">\n",
       "      <th></th>\n",
       "      <th>제목</th>\n",
       "      <th>BoW</th>\n",
       "    </tr>\n",
       "  </thead>\n",
       "  <tbody>\n",
       "    <tr>\n",
       "      <th>0</th>\n",
       "      <td>한국-인도네시아 포괄적 경제동반자협정(CEPA) 비준</td>\n",
       "      <td>인도네시아,국회,한인니,비준,진행,상황,인도네시아,국회,한인니,비준,진행,상황,인도...</td>\n",
       "    </tr>\n",
       "    <tr>\n",
       "      <th>1</th>\n",
       "      <td>지역주택조합이 조합총회 결의 없이 체결한 계약의 효력에 관한 대법원판결(대법원 20...</td>\n",
       "      <td>주택법,시행규칙,지역주택조합,예산,조합원,부담,계약,체결,총회,의결,주택법,시행규칙...</td>\n",
       "    </tr>\n",
       "    <tr>\n",
       "      <th>2</th>\n",
       "      <td>금융투자업자 간 업무용으로 지정되지 않은 정보통신수단을 사용하여 이루어진 매매 교섭...</td>\n",
       "      <td>금융투자업자,주문기록,유지의무,정보통신수단,지정,금융투자업자,주문기록,유지의무,정보...</td>\n",
       "    </tr>\n",
       "    <tr>\n",
       "      <th>3</th>\n",
       "      <td>도심복합사업 개편 – 정부의 국민 주거안정 실현방안 발표 및 ‘도심 복합개발 지원에...</td>\n",
       "      <td>정부,국회,주택,공급,공공주택,특별법,개정,공공주택,복합사업,도입,사업,공공,주도적...</td>\n",
       "    </tr>\n",
       "    <tr>\n",
       "      <th>4</th>\n",
       "      <td>2022년도 지방세입 관계법률 개정안 주요 사항</td>\n",
       "      <td>행정안전부,지방세발전위원회,개최,경제,활력,민생안정,지원,지방세입,관계법률,개정안,...</td>\n",
       "    </tr>\n",
       "    <tr>\n",
       "      <th>...</th>\n",
       "      <td>...</td>\n",
       "      <td>...</td>\n",
       "    </tr>\n",
       "    <tr>\n",
       "      <th>357</th>\n",
       "      <td>가맹사업법 시행령 개정안과 관련하여 알려드립니다.</td>\n",
       "      <td>가맹사업법,시행령,개정안,가맹사업법,시행령,개정안,가맹사업법,시행령,개정안,가맹사업...</td>\n",
       "    </tr>\n",
       "    <tr>\n",
       "      <th>358</th>\n",
       "      <td>부당지원행위 등 공정거래법 시행령 개정 및 부당특약 등 하도급법 시행령 개정과 관련...</td>\n",
       "      <td>부당지원행위,공정거래법,시행령,개정,부당지원행위,공정거래법,시행령,개정,부당지원행위...</td>\n",
       "    </tr>\n",
       "    <tr>\n",
       "      <th>359</th>\n",
       "      <td>환경오염물질 배출시설 관리체계 전면 개편</td>\n",
       "      <td>환경오염물질,배출시설,관리체계,전면,개편,환경오염물질,배출시설,관리체계,전면,개편,...</td>\n",
       "    </tr>\n",
       "    <tr>\n",
       "      <th>360</th>\n",
       "      <td>상해자유무역구 부가가치통신업무 개방</td>\n",
       "      <td>상해자유무역구,개방,상해자유무역구,개방,상해자유무역구,개방,상해자유무역구,개방,중국...</td>\n",
       "    </tr>\n",
       "    <tr>\n",
       "      <th>361</th>\n",
       "      <td>중국 &lt;회사법&gt; 수정안</td>\n",
       "      <td>중국,회사법,수정안,중국,회사법,수정안,중국,회사법,수정안,중국공산당,중앙위원회,전...</td>\n",
       "    </tr>\n",
       "  </tbody>\n",
       "</table>\n",
       "<p>362 rows × 2 columns</p>\n",
       "</div>"
      ],
      "text/plain": [
       "                                                    제목  \\\n",
       "0                        한국-인도네시아 포괄적 경제동반자협정(CEPA) 비준   \n",
       "1    지역주택조합이 조합총회 결의 없이 체결한 계약의 효력에 관한 대법원판결(대법원 20...   \n",
       "2    금융투자업자 간 업무용으로 지정되지 않은 정보통신수단을 사용하여 이루어진 매매 교섭...   \n",
       "3    도심복합사업 개편 – 정부의 국민 주거안정 실현방안 발표 및 ‘도심 복합개발 지원에...   \n",
       "4                           2022년도 지방세입 관계법률 개정안 주요 사항   \n",
       "..                                                 ...   \n",
       "357                        가맹사업법 시행령 개정안과 관련하여 알려드립니다.   \n",
       "358  부당지원행위 등 공정거래법 시행령 개정 및 부당특약 등 하도급법 시행령 개정과 관련...   \n",
       "359                             환경오염물질 배출시설 관리체계 전면 개편   \n",
       "360                                상해자유무역구 부가가치통신업무 개방   \n",
       "361                                       중국 <회사법> 수정안   \n",
       "\n",
       "                                                   BoW  \n",
       "0    인도네시아,국회,한인니,비준,진행,상황,인도네시아,국회,한인니,비준,진행,상황,인도...  \n",
       "1    주택법,시행규칙,지역주택조합,예산,조합원,부담,계약,체결,총회,의결,주택법,시행규칙...  \n",
       "2    금융투자업자,주문기록,유지의무,정보통신수단,지정,금융투자업자,주문기록,유지의무,정보...  \n",
       "3    정부,국회,주택,공급,공공주택,특별법,개정,공공주택,복합사업,도입,사업,공공,주도적...  \n",
       "4    행정안전부,지방세발전위원회,개최,경제,활력,민생안정,지원,지방세입,관계법률,개정안,...  \n",
       "..                                                 ...  \n",
       "357  가맹사업법,시행령,개정안,가맹사업법,시행령,개정안,가맹사업법,시행령,개정안,가맹사업...  \n",
       "358  부당지원행위,공정거래법,시행령,개정,부당지원행위,공정거래법,시행령,개정,부당지원행위...  \n",
       "359  환경오염물질,배출시설,관리체계,전면,개편,환경오염물질,배출시설,관리체계,전면,개편,...  \n",
       "360  상해자유무역구,개방,상해자유무역구,개방,상해자유무역구,개방,상해자유무역구,개방,중국...  \n",
       "361  중국,회사법,수정안,중국,회사법,수정안,중국,회사법,수정안,중국공산당,중앙위원회,전...  \n",
       "\n",
       "[362 rows x 2 columns]"
      ]
     },
     "execution_count": 7,
     "metadata": {},
     "output_type": "execute_result"
    }
   ],
   "source": [
    "DB_NAME = '법무법인_태평양_법률자료.db'\n",
    "TABLE_NAME = '태평양_tokenized'\n",
    "df = db_select(DB_NAME,TABLE_NAME)\n",
    "df1 = df.iloc[:,[0,4]].copy()\n",
    "df1"
   ]
  },
  {
   "cell_type": "markdown",
   "id": "6a70e900",
   "metadata": {},
   "source": [
    "# 단어의 총 등장 횟수 구하기 --> TF"
   ]
  },
  {
   "cell_type": "code",
   "execution_count": 8,
   "id": "1df3d3ad",
   "metadata": {},
   "outputs": [],
   "source": [
    "def dict_each(string):\n",
    "    each_art = dict()     # dictionary for each article\n",
    "    temp_list = []        # temporary list for the word tokens\n",
    "    \n",
    "    for i in string.split(','):\n",
    "        temp_list.append(i)\n",
    "\n",
    "    for each_t in temp_list:\n",
    "        if each_t in each_art.keys():\n",
    "            each_art[each_t] += 1\n",
    "        else :\n",
    "            each_art[each_t] = 1\n",
    "            \n",
    "    t_list = sorted(each_art.items(), key=lambda x:x[1], reverse=True)\n",
    "    each_TF = dict(t_list)\n",
    "    return each_TF"
   ]
  },
  {
   "cell_type": "code",
   "execution_count": 9,
   "id": "d9a5e227",
   "metadata": {},
   "outputs": [
    {
     "data": {
      "text/plain": [
       "362"
      ]
     },
     "execution_count": 9,
     "metadata": {},
     "output_type": "execute_result"
    }
   ],
   "source": [
    "total_TF = []\n",
    "\n",
    "for i in df1.iloc[:,1]:\n",
    "    tokens_const = []\n",
    "    total_TF.append(dict_each(i))\n",
    "\n",
    "len(total_TF)"
   ]
  },
  {
   "cell_type": "code",
   "execution_count": 10,
   "id": "dd89d322",
   "metadata": {},
   "outputs": [
    {
     "name": "stdout",
     "output_type": "stream",
     "text": [
      "362  saved to file...\n"
     ]
    }
   ],
   "source": [
    "saveDict(total_TF,'TF_file.pkl')\n",
    "#saveDict(total_TF,'TF-IDF_file.pkl')"
   ]
  },
  {
   "cell_type": "code",
   "execution_count": 11,
   "id": "7f576bf4",
   "metadata": {},
   "outputs": [],
   "source": [
    "TF_new = readDict('TF_file.pkl')\n",
    "DF = readDict('DF_file.pkl')"
   ]
  },
  {
   "cell_type": "markdown",
   "id": "a0303ccd",
   "metadata": {},
   "source": [
    "# TF-IDF\n",
    "##### 참고: https://brunch.co.kr/@bflysoft1117/127, https://www.researchgate.net/publication/342833072_gujojeog_topig_modelling-eul_hwal-yonghan_gong-gongdeiteo_suyo_bunseog_Analysis_of_Open_Government_Data_Demand_Using_Structural_Topic_Modeling\n",
    "높을수록 단어 중요도가 높다\n",
    "### TF-IDF = TF X log(N/DF)\n",
    "- TF: 문서 내 특정 단어의 빈도 수\n",
    "- N: 분석 대상 문서 통합\n",
    "- DF: 특정 단어를 포함하는 문서빈도 수"
   ]
  },
  {
   "cell_type": "code",
   "execution_count": 12,
   "id": "06245f47",
   "metadata": {},
   "outputs": [],
   "source": [
    "def TF_IDF_each(dct):\n",
    "    TF_IDF_i = dict()     # dictionary to save TF-IDF values\n",
    "    \n",
    "    for eachkey in list(dct.keys()):\n",
    "        TF_temp = dct[eachkey]\n",
    "        DF_temp = DF[eachkey]\n",
    "        TF_IDF_1 = TF_temp*math.log(N/DF_temp)\n",
    "        TF_IDF_i[eachkey] = TF_IDF_1\n",
    "\n",
    "    temp_tf_idf = sorted(TF_IDF_i.items(), key=lambda x:x[1], reverse=True)\n",
    "    TF_IDF_temp = dict(temp_tf_idf)\n",
    "    return TF_IDF_temp"
   ]
  },
  {
   "cell_type": "code",
   "execution_count": 13,
   "id": "a1b0aae1",
   "metadata": {
    "scrolled": true
   },
   "outputs": [],
   "source": [
    "TF_IDF = []     # dictionary to save TF-IDF values\n",
    "\n",
    "N = len(df1)\n",
    "for each_article in total_TF:\n",
    "    each_TI = TF_IDF_each(each_article)\n",
    "    TF_IDF.append(each_TI)"
   ]
  },
  {
   "cell_type": "markdown",
   "id": "7c536f5e",
   "metadata": {},
   "source": [
    "# Find the 10 keywords of the first article\n",
    "- ordered by importance"
   ]
  },
  {
   "cell_type": "code",
   "execution_count": 14,
   "id": "a44c3413",
   "metadata": {},
   "outputs": [],
   "source": [
    "def get_each_keywords(dictionary):\n",
    "    keyword_s = \"\"\n",
    "    \n",
    "    temp_list = sorted(dictionary.items(), key=lambda x:x[1], reverse=True)\n",
    "    temp_2 = dict(temp_list)\n",
    "    keywords = list(temp_2.keys())[:10]\n",
    "    keyword_s = ','.join(keywords)\n",
    "    \n",
    "    return keyword_s"
   ]
  },
  {
   "cell_type": "code",
   "execution_count": 15,
   "id": "f01f32a0",
   "metadata": {},
   "outputs": [
    {
     "data": {
      "text/html": [
       "<div>\n",
       "<style scoped>\n",
       "    .dataframe tbody tr th:only-of-type {\n",
       "        vertical-align: middle;\n",
       "    }\n",
       "\n",
       "    .dataframe tbody tr th {\n",
       "        vertical-align: top;\n",
       "    }\n",
       "\n",
       "    .dataframe thead th {\n",
       "        text-align: right;\n",
       "    }\n",
       "</style>\n",
       "<table border=\"1\" class=\"dataframe\">\n",
       "  <thead>\n",
       "    <tr style=\"text-align: right;\">\n",
       "      <th></th>\n",
       "      <th>제목</th>\n",
       "      <th>날짜</th>\n",
       "      <th>관련주제</th>\n",
       "      <th>본문내용</th>\n",
       "      <th>BoW</th>\n",
       "      <th>키워드10개</th>\n",
       "    </tr>\n",
       "  </thead>\n",
       "  <tbody>\n",
       "    <tr>\n",
       "      <th>0</th>\n",
       "      <td>한국-인도네시아 포괄적 경제동반자협정(CEPA) 비준</td>\n",
       "      <td>2022.09.13</td>\n",
       "      <td>기업법무,해외투자,국제쟁송,관세·국제통상,동남아시아</td>\n",
       "      <td>인도네시아 국회의 한인니 CEPA 비준 및 진행 상황 인도네시아 국회의 한인니 C...</td>\n",
       "      <td>인도네시아,국회,한인니,비준,진행,상황,인도네시아,국회,한인니,비준,진행,상황,인도...</td>\n",
       "      <td>한인니,인도네시아,원산지,비준,한인니CEPA,엔지니어링,발효,국회,관세,통관절차</td>\n",
       "    </tr>\n",
       "    <tr>\n",
       "      <th>1</th>\n",
       "      <td>지역주택조합이 조합총회 결의 없이 체결한 계약의 효력에 관한 대법원판결(대법원 20...</td>\n",
       "      <td>2022.09.06</td>\n",
       "      <td>국내소송,건설·부동산소송,건설</td>\n",
       "      <td>주택법 시행규칙은 지역주택조합이 예산으로 정한 사항 외에 조합원에게 부담이 될 계약...</td>\n",
       "      <td>주택법,시행규칙,지역주택조합,예산,조합원,부담,계약,체결,총회,의결,주택법,시행규칙...</td>\n",
       "      <td>지역주택조합,주택법,총회,조합원,법률행위,계약,비법인사단,예산,흠결,절차적</td>\n",
       "    </tr>\n",
       "    <tr>\n",
       "      <th>2</th>\n",
       "      <td>금융투자업자 간 업무용으로 지정되지 않은 정보통신수단을 사용하여 이루어진 매매 교섭...</td>\n",
       "      <td>2022.09.05</td>\n",
       "      <td>자본시장,국내소송,증권금융소송,금융회사,은행,증권,자산운용,비은행 금융기관</td>\n",
       "      <td>배경 배경 배경 1 금융투자업자의 주문기록 유지의무 및 업무용 정보통신수단 지정 ...</td>\n",
       "      <td>금융투자업자,주문기록,유지의무,정보통신수단,지정,금융투자업자,주문기록,유지의무,정보...</td>\n",
       "      <td>정보통신수단,원고들,지급거절,주문기록,자산담보부기업어음ABCP,금융투자업자,임직원들...</td>\n",
       "    </tr>\n",
       "    <tr>\n",
       "      <th>3</th>\n",
       "      <td>도심복합사업 개편 – 정부의 국민 주거안정 실현방안 발표 및 ‘도심 복합개발 지원에...</td>\n",
       "      <td>2022.08.23</td>\n",
       "      <td>국내소송,건설·부동산소송,건설</td>\n",
       "      <td>정부와 국회는 도심 내 주택을 신속히 공급하기 위해 공공주택 특별법을 개정하여 도심...</td>\n",
       "      <td>정부,국회,주택,공급,공공주택,특별법,개정,공공주택,복합사업,도입,사업,공공,주도적...</td>\n",
       "      <td>성장거점형,주거중심형,용적률,토지주,도심복합사업,사업시행자,민간,첨단산업,고밀,광역...</td>\n",
       "    </tr>\n",
       "    <tr>\n",
       "      <th>4</th>\n",
       "      <td>2022년도 지방세입 관계법률 개정안 주요 사항</td>\n",
       "      <td>2022.08.12</td>\n",
       "      <td>조세</td>\n",
       "      <td>행정안전부는 2022 8 11 지방세발전위원회를 개최하여 경제 활력 제고와 민생안정...</td>\n",
       "      <td>행정안전부,지방세발전위원회,개최,경제,활력,민생안정,지원,지방세입,관계법률,개정안,...</td>\n",
       "      <td>취득세,감면,납세의무,과세표준,지방세,심판청구,간접투자회사,세율,개정안,국세</td>\n",
       "    </tr>\n",
       "    <tr>\n",
       "      <th>...</th>\n",
       "      <td>...</td>\n",
       "      <td>...</td>\n",
       "      <td>...</td>\n",
       "      <td>...</td>\n",
       "      <td>...</td>\n",
       "      <td>...</td>\n",
       "    </tr>\n",
       "    <tr>\n",
       "      <th>357</th>\n",
       "      <td>가맹사업법 시행령 개정안과 관련하여 알려드립니다.</td>\n",
       "      <td>2014.02.13</td>\n",
       "      <td>공정거래 조사·소송</td>\n",
       "      <td>가맹사업법 시행령 개정안과 관련하여 가맹사업법 시행령 개정안과 관련하여 가맹사업법 ...</td>\n",
       "      <td>가맹사업법,시행령,개정안,가맹사업법,시행령,개정안,가맹사업법,시행령,개정안,가맹사업...</td>\n",
       "      <td>가맹사업법,가맹본부,점포환경,개정안,상황정보,시행령,구체화시행령,변경등록,정보공개,오전</td>\n",
       "    </tr>\n",
       "    <tr>\n",
       "      <th>358</th>\n",
       "      <td>부당지원행위 등 공정거래법 시행령 개정 및 부당특약 등 하도급법 시행령 개정과 관련...</td>\n",
       "      <td>2014.02.11</td>\n",
       "      <td>공정거래 조사·소송</td>\n",
       "      <td>부당지원행위 등 공정거래법 시행령 개정 부당지원행위 등 공정거래법 시행령 개정 부당...</td>\n",
       "      <td>부당지원행위,공정거래법,시행령,개정,부당지원행위,공정거래법,시행령,개정,부당지원행위...</td>\n",
       "      <td>부당지원행위,공정거래법,시행령,특수관계인,유리한,하도급법,객체,개정,원사업자,사업기회</td>\n",
       "    </tr>\n",
       "    <tr>\n",
       "      <th>359</th>\n",
       "      <td>환경오염물질 배출시설 관리체계 전면 개편</td>\n",
       "      <td>2014.02.06</td>\n",
       "      <td>환경,환경</td>\n",
       "      <td>환경오염물질 배출시설 관리체계 전면 개편 환경오염물질 배출시설 관리체계 전면 개편 ...</td>\n",
       "      <td>환경오염물질,배출시설,관리체계,전면,개편,환경오염물질,배출시설,관리체계,전면,개편,...</td>\n",
       "      <td>환통법,배출시설,입법예고안,통합허가,입지규제,변경허가,환경부,오염물질,기술규제,업종별</td>\n",
       "    </tr>\n",
       "    <tr>\n",
       "      <th>360</th>\n",
       "      <td>상해자유무역구 부가가치통신업무 개방</td>\n",
       "      <td>2014.02.04</td>\n",
       "      <td>중국</td>\n",
       "      <td>상해자유무역구 부가가치통신업무 개방 상해자유무역구 부가가치통신업무 개방 상해자유무역...</td>\n",
       "      <td>상해자유무역구,개방,상해자유무역구,개방,상해자유무역구,개방,상해자유무역구,개방,중국...</td>\n",
       "      <td>시범구,개방,외자지분비율,외자기업,진일보,시범적,중국상해자유무역시범구,격려,공업정보...</td>\n",
       "    </tr>\n",
       "    <tr>\n",
       "      <th>361</th>\n",
       "      <td>중국 &lt;회사법&gt; 수정안</td>\n",
       "      <td>2014.01.14</td>\n",
       "      <td>중국</td>\n",
       "      <td>중국 회사법 수정안 중국 회사법 수정안 중국 회사법 수정안 1 배경 1 배경 1 배...</td>\n",
       "      <td>중국,회사법,수정안,중국,회사법,수정안,중국,회사법,수정안,중국공산당,중앙위원회,전...</td>\n",
       "      <td>영업허가증,신규양식,회사법,등록자본,점차적,시범지역,조회,전환,양식,공상등기제도</td>\n",
       "    </tr>\n",
       "  </tbody>\n",
       "</table>\n",
       "<p>362 rows × 6 columns</p>\n",
       "</div>"
      ],
      "text/plain": [
       "                                                    제목          날짜  \\\n",
       "0                        한국-인도네시아 포괄적 경제동반자협정(CEPA) 비준  2022.09.13   \n",
       "1    지역주택조합이 조합총회 결의 없이 체결한 계약의 효력에 관한 대법원판결(대법원 20...  2022.09.06   \n",
       "2    금융투자업자 간 업무용으로 지정되지 않은 정보통신수단을 사용하여 이루어진 매매 교섭...  2022.09.05   \n",
       "3    도심복합사업 개편 – 정부의 국민 주거안정 실현방안 발표 및 ‘도심 복합개발 지원에...  2022.08.23   \n",
       "4                           2022년도 지방세입 관계법률 개정안 주요 사항  2022.08.12   \n",
       "..                                                 ...         ...   \n",
       "357                        가맹사업법 시행령 개정안과 관련하여 알려드립니다.  2014.02.13   \n",
       "358  부당지원행위 등 공정거래법 시행령 개정 및 부당특약 등 하도급법 시행령 개정과 관련...  2014.02.11   \n",
       "359                             환경오염물질 배출시설 관리체계 전면 개편  2014.02.06   \n",
       "360                                상해자유무역구 부가가치통신업무 개방  2014.02.04   \n",
       "361                                       중국 <회사법> 수정안  2014.01.14   \n",
       "\n",
       "                                          관련주제  \\\n",
       "0                 기업법무,해외투자,국제쟁송,관세·국제통상,동남아시아   \n",
       "1                             국내소송,건설·부동산소송,건설   \n",
       "2    자본시장,국내소송,증권금융소송,금융회사,은행,증권,자산운용,비은행 금융기관   \n",
       "3                             국내소송,건설·부동산소송,건설   \n",
       "4                                           조세   \n",
       "..                                         ...   \n",
       "357                                 공정거래 조사·소송   \n",
       "358                                 공정거래 조사·소송   \n",
       "359                                      환경,환경   \n",
       "360                                         중국   \n",
       "361                                         중국   \n",
       "\n",
       "                                                  본문내용  \\\n",
       "0     인도네시아 국회의 한인니 CEPA 비준 및 진행 상황 인도네시아 국회의 한인니 C...   \n",
       "1    주택법 시행규칙은 지역주택조합이 예산으로 정한 사항 외에 조합원에게 부담이 될 계약...   \n",
       "2     배경 배경 배경 1 금융투자업자의 주문기록 유지의무 및 업무용 정보통신수단 지정 ...   \n",
       "3    정부와 국회는 도심 내 주택을 신속히 공급하기 위해 공공주택 특별법을 개정하여 도심...   \n",
       "4    행정안전부는 2022 8 11 지방세발전위원회를 개최하여 경제 활력 제고와 민생안정...   \n",
       "..                                                 ...   \n",
       "357  가맹사업법 시행령 개정안과 관련하여 가맹사업법 시행령 개정안과 관련하여 가맹사업법 ...   \n",
       "358  부당지원행위 등 공정거래법 시행령 개정 부당지원행위 등 공정거래법 시행령 개정 부당...   \n",
       "359  환경오염물질 배출시설 관리체계 전면 개편 환경오염물질 배출시설 관리체계 전면 개편 ...   \n",
       "360  상해자유무역구 부가가치통신업무 개방 상해자유무역구 부가가치통신업무 개방 상해자유무역...   \n",
       "361  중국 회사법 수정안 중국 회사법 수정안 중국 회사법 수정안 1 배경 1 배경 1 배...   \n",
       "\n",
       "                                                   BoW  \\\n",
       "0    인도네시아,국회,한인니,비준,진행,상황,인도네시아,국회,한인니,비준,진행,상황,인도...   \n",
       "1    주택법,시행규칙,지역주택조합,예산,조합원,부담,계약,체결,총회,의결,주택법,시행규칙...   \n",
       "2    금융투자업자,주문기록,유지의무,정보통신수단,지정,금융투자업자,주문기록,유지의무,정보...   \n",
       "3    정부,국회,주택,공급,공공주택,특별법,개정,공공주택,복합사업,도입,사업,공공,주도적...   \n",
       "4    행정안전부,지방세발전위원회,개최,경제,활력,민생안정,지원,지방세입,관계법률,개정안,...   \n",
       "..                                                 ...   \n",
       "357  가맹사업법,시행령,개정안,가맹사업법,시행령,개정안,가맹사업법,시행령,개정안,가맹사업...   \n",
       "358  부당지원행위,공정거래법,시행령,개정,부당지원행위,공정거래법,시행령,개정,부당지원행위...   \n",
       "359  환경오염물질,배출시설,관리체계,전면,개편,환경오염물질,배출시설,관리체계,전면,개편,...   \n",
       "360  상해자유무역구,개방,상해자유무역구,개방,상해자유무역구,개방,상해자유무역구,개방,중국...   \n",
       "361  중국,회사법,수정안,중국,회사법,수정안,중국,회사법,수정안,중국공산당,중앙위원회,전...   \n",
       "\n",
       "                                                키워드10개  \n",
       "0         한인니,인도네시아,원산지,비준,한인니CEPA,엔지니어링,발효,국회,관세,통관절차  \n",
       "1            지역주택조합,주택법,총회,조합원,법률행위,계약,비법인사단,예산,흠결,절차적  \n",
       "2    정보통신수단,원고들,지급거절,주문기록,자산담보부기업어음ABCP,금융투자업자,임직원들...  \n",
       "3    성장거점형,주거중심형,용적률,토지주,도심복합사업,사업시행자,민간,첨단산업,고밀,광역...  \n",
       "4           취득세,감면,납세의무,과세표준,지방세,심판청구,간접투자회사,세율,개정안,국세  \n",
       "..                                                 ...  \n",
       "357   가맹사업법,가맹본부,점포환경,개정안,상황정보,시행령,구체화시행령,변경등록,정보공개,오전  \n",
       "358    부당지원행위,공정거래법,시행령,특수관계인,유리한,하도급법,객체,개정,원사업자,사업기회  \n",
       "359    환통법,배출시설,입법예고안,통합허가,입지규제,변경허가,환경부,오염물질,기술규제,업종별  \n",
       "360  시범구,개방,외자지분비율,외자기업,진일보,시범적,중국상해자유무역시범구,격려,공업정보...  \n",
       "361       영업허가증,신규양식,회사법,등록자본,점차적,시범지역,조회,전환,양식,공상등기제도  \n",
       "\n",
       "[362 rows x 6 columns]"
      ]
     },
     "execution_count": 15,
     "metadata": {},
     "output_type": "execute_result"
    }
   ],
   "source": [
    "TF_IDF_final = []\n",
    "\n",
    "for each in TF_IDF:\n",
    "    TF_IDF_final.append(get_each_keywords(each))\n",
    "    \n",
    "df['키워드10개'] = TF_IDF_final\n",
    "df"
   ]
  },
  {
   "cell_type": "code",
   "execution_count": 17,
   "id": "2053af2f",
   "metadata": {},
   "outputs": [
    {
     "name": "stdout",
     "output_type": "stream",
     "text": [
      "362 건 저장완료..\n"
     ]
    }
   ],
   "source": [
    "db_save(df, DB_NAME, '키워드')"
   ]
  }
 ],
 "metadata": {
  "kernelspec": {
   "display_name": "Python 3 (ipykernel)",
   "language": "python",
   "name": "python3"
  },
  "language_info": {
   "codemirror_mode": {
    "name": "ipython",
    "version": 3
   },
   "file_extension": ".py",
   "mimetype": "text/x-python",
   "name": "python",
   "nbconvert_exporter": "python",
   "pygments_lexer": "ipython3",
   "version": "3.9.12"
  }
 },
 "nbformat": 4,
 "nbformat_minor": 5
}
