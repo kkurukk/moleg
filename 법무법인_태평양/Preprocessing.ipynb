{
 "cells": [
  {
   "cell_type": "markdown",
   "id": "120b3a2a",
   "metadata": {},
   "source": [
    "### Import Files"
   ]
  },
  {
   "cell_type": "code",
   "execution_count": 1,
   "id": "0a86f99d",
   "metadata": {},
   "outputs": [],
   "source": [
    "import requests\n",
    "import lxml.html\n",
    "import sqlite3 as sq3\n",
    "from pandas.io import sql\n",
    "import os\n",
    "import re\n",
    "import string\n",
    "import pandas as pd\n",
    "from tabulate import tabulate\n",
    "from selenium.webdriver import Chrome\n",
    "import time\n",
    "import warnings\n",
    "warnings.simplefilter(action='ignore', category=FutureWarning)\n",
    "from selenium import webdriver\n",
    "from selenium.webdriver import ActionChains\n",
    "import csv\n",
    "import numpy as np"
   ]
  },
  {
   "cell_type": "markdown",
   "id": "661b9e1f",
   "metadata": {},
   "source": [
    "# Read URL"
   ]
  },
  {
   "cell_type": "code",
   "execution_count": 2,
   "id": "13d0b34a",
   "metadata": {},
   "outputs": [],
   "source": [
    "def readURLs(file_name):\n",
    "    # empty list to read list from a file\n",
    "    urls = []\n",
    "    # open file and read the content in a list\n",
    "    with open(file_name, 'r') as fp:\n",
    "        for line in fp:\n",
    "            # remove linebreak from a current name\n",
    "            # linebreak is the last character of each line\n",
    "            x = line[:-1]\n",
    "\n",
    "            # add current item to the list\n",
    "            urls.append(x)\n",
    "    return(urls)"
   ]
  },
  {
   "cell_type": "markdown",
   "id": "037dd106",
   "metadata": {},
   "source": [
    "## db methods\n",
    "- reads and writes data from and to db file"
   ]
  },
  {
   "cell_type": "code",
   "execution_count": 3,
   "id": "ed461de1",
   "metadata": {},
   "outputs": [],
   "source": [
    "def db_save(ARTICLE_LIST, db_name, table_name):\n",
    "    with sq3.connect(os.path.join('.',db_name)) as con: # sqlite DB 파일이 존재하지 않는 경우 파일생성\n",
    "        try:\n",
    "            ARTICLE_LIST.to_sql(name = table_name, con = con, index = False, if_exists='replace') \n",
    "            #if_exists : {'fail', 'replace', 'append'} default : fail\n",
    "        except Exception as e:\n",
    "            print(str(e))\n",
    "        print(len(ARTICLE_LIST), '건 저장완료..')"
   ]
  },
  {
   "cell_type": "code",
   "execution_count": 4,
   "id": "3b1886c8",
   "metadata": {},
   "outputs": [],
   "source": [
    "def db_select(db_name, table_name):\n",
    "    with sq3.connect(db_name) as con: \n",
    "        try:\n",
    "            query = 'SELECT * FROM {}'.format(table_name)\n",
    "            df = pd.read_sql(query, con = con)\n",
    "        except Exception as e:\n",
    "            print(str(e)) \n",
    "        return df"
   ]
  },
  {
   "cell_type": "markdown",
   "id": "198c7780",
   "metadata": {},
   "source": [
    "## reads the saved file and displays the result as a dataframe"
   ]
  },
  {
   "cell_type": "code",
   "execution_count": 5,
   "id": "72123ca4",
   "metadata": {
    "scrolled": false
   },
   "outputs": [],
   "source": [
    "document = db_select('법무법인_태평양_법률자료.db','태평양')"
   ]
  },
  {
   "cell_type": "code",
   "execution_count": 6,
   "id": "8455f291",
   "metadata": {},
   "outputs": [
    {
     "data": {
      "text/plain": [
       "제목      False\n",
       "날짜      False\n",
       "관련주제    False\n",
       "본문내용    False\n",
       "dtype: bool"
      ]
     },
     "execution_count": 6,
     "metadata": {},
     "output_type": "execute_result"
    }
   ],
   "source": [
    "document.isna().any()"
   ]
  },
  {
   "cell_type": "code",
   "execution_count": 7,
   "id": "e29f3008",
   "metadata": {},
   "outputs": [
    {
     "data": {
      "text/plain": [
       "''"
      ]
     },
     "execution_count": 7,
     "metadata": {},
     "output_type": "execute_result"
    }
   ],
   "source": [
    "document.iloc[400,3]"
   ]
  },
  {
   "cell_type": "code",
   "execution_count": 8,
   "id": "d381d27a",
   "metadata": {},
   "outputs": [
    {
     "data": {
      "text/plain": [
       "array([], dtype=int64)"
      ]
     },
     "execution_count": 8,
     "metadata": {},
     "output_type": "execute_result"
    }
   ],
   "source": [
    "document.loc[document['본문내용'].str.contains(\"'\")].index.values"
   ]
  },
  {
   "cell_type": "code",
   "execution_count": 9,
   "id": "04f35c4d",
   "metadata": {},
   "outputs": [
    {
     "data": {
      "text/plain": [
       "array([281, 286, 291, 301, 307, 316, 324, 333, 340, 347, 351, 359, 368,\n",
       "       378, 379, 380, 381, 382, 383, 384, 385, 386, 387, 388, 389, 390,\n",
       "       391, 392, 393, 394, 395, 396, 397, 398, 399, 400, 401, 402, 403,\n",
       "       404], dtype=int64)"
      ]
     },
     "execution_count": 9,
     "metadata": {},
     "output_type": "execute_result"
    }
   ],
   "source": [
    "index_no_art = document.loc[document['본문내용'] == ''].index.values\n",
    "index_no_art"
   ]
  },
  {
   "cell_type": "code",
   "execution_count": 10,
   "id": "7e7d3bec",
   "metadata": {},
   "outputs": [],
   "source": [
    "def remove_punc(data):\n",
    "\n",
    "    punc = '[!\"#$%&\\'()*+,-./:;<=>?[\\]^_`{|}~“”·「」△《》•‘’○※▷【】『』·-“”)I]'\n",
    "    new_string = re.sub(punc, '', data) # 특수문자 제거\n",
    "    new_string = re.sub('\\n', ' ', new_string) # newline 제거\n",
    "    new_string = re.sub('\\\\s+', ' ', new_string) # multiple spaces 제거\n",
    "    return new_string"
   ]
  },
  {
   "cell_type": "code",
   "execution_count": 11,
   "id": "b7192648",
   "metadata": {},
   "outputs": [],
   "source": [
    "def get_info_article(url):\n",
    "    article = []\n",
    "    articleString = \"\"\n",
    "    \n",
    "    browser.get(url)\n",
    "    time.sleep(2)\n",
    "    \n",
    "    # click expand button\n",
    "    if (browser.find_element('xpath','//*[@id=\"listConditionVO\"]/div/div[1]/div/button')):\n",
    "        click_expand = browser.find_element('xpath','//*[@id=\"listConditionVO\"]/div/div[1]/div/button').click()\n",
    "    text_box = browser.find_element('xpath','//div[@class=\"txt\"]')\n",
    "    \n",
    "    divs = text_box.find_elements('xpath','div')\n",
    "    for eachText in divs:\n",
    "        article.append(eachText.text)\n",
    "        browser.implicitly_wait(5)\n",
    "    articleString = ' '.join(article)\n",
    "    \n",
    "    browser.implicitly_wait(5)\n",
    "    words = remove_punc(articleString)\n",
    "\n",
    "    return words"
   ]
  },
  {
   "cell_type": "code",
   "execution_count": 12,
   "id": "2c9be5a6",
   "metadata": {},
   "outputs": [
    {
     "data": {
      "text/plain": [
       "40"
      ]
     },
     "execution_count": 12,
     "metadata": {},
     "output_type": "execute_result"
    }
   ],
   "source": [
    "#document.iloc[index_no_art,:]\n",
    "len(index_no_art)"
   ]
  },
  {
   "cell_type": "markdown",
   "id": "0bbebfd6",
   "metadata": {},
   "source": [
    "## find rows with nan values\n",
    "edit the table"
   ]
  },
  {
   "cell_type": "code",
   "execution_count": 13,
   "id": "27797836",
   "metadata": {},
   "outputs": [],
   "source": [
    "df_null = document.loc[document.isna().any(axis=1)]\n",
    "#display(df_null)"
   ]
  },
  {
   "cell_type": "code",
   "execution_count": 14,
   "id": "e13a37d2",
   "metadata": {},
   "outputs": [
    {
     "name": "stdout",
     "output_type": "stream",
     "text": [
      "0\n"
     ]
    }
   ],
   "source": [
    "print(len(df_null))"
   ]
  },
  {
   "cell_type": "markdown",
   "id": "a37a290a",
   "metadata": {},
   "source": [
    "## drop rows that doesn't have the articles"
   ]
  },
  {
   "cell_type": "code",
   "execution_count": 15,
   "id": "a01aaa85",
   "metadata": {},
   "outputs": [
    {
     "data": {
      "text/plain": [
       "array([281, 286, 291, 301, 307, 316, 324, 333, 340, 347, 351, 359, 368,\n",
       "       378, 380, 388, 389, 390, 391, 392, 393, 394, 395, 396, 397, 398,\n",
       "       399, 400, 401, 402, 403, 404], dtype=int64)"
      ]
     },
     "execution_count": 15,
     "metadata": {},
     "output_type": "execute_result"
    }
   ],
   "source": [
    "df_null_dr1 = document.loc[document[\"제목\"].str.contains(\"Winter |Spring |Fall |Summer |BKL Legal Update |BKL Nesletter\")==True]\n",
    "df_null_dr2 = df_null_dr1.loc[df_null_dr1[\"본문내용\"] == '']\n",
    "drop_list = df_null_dr2.index.values\n",
    "drop_list"
   ]
  },
  {
   "cell_type": "code",
   "execution_count": 16,
   "id": "8964e4b7",
   "metadata": {},
   "outputs": [
    {
     "data": {
      "text/plain": [
       "32"
      ]
     },
     "execution_count": 16,
     "metadata": {},
     "output_type": "execute_result"
    }
   ],
   "source": [
    "len(drop_list)"
   ]
  },
  {
   "cell_type": "code",
   "execution_count": 17,
   "id": "3943a8e9",
   "metadata": {
    "scrolled": true
   },
   "outputs": [
    {
     "data": {
      "text/html": [
       "<div>\n",
       "<style scoped>\n",
       "    .dataframe tbody tr th:only-of-type {\n",
       "        vertical-align: middle;\n",
       "    }\n",
       "\n",
       "    .dataframe tbody tr th {\n",
       "        vertical-align: top;\n",
       "    }\n",
       "\n",
       "    .dataframe thead th {\n",
       "        text-align: right;\n",
       "    }\n",
       "</style>\n",
       "<table border=\"1\" class=\"dataframe\">\n",
       "  <thead>\n",
       "    <tr style=\"text-align: right;\">\n",
       "      <th></th>\n",
       "      <th>제목</th>\n",
       "      <th>날짜</th>\n",
       "      <th>관련주제</th>\n",
       "      <th>본문내용</th>\n",
       "    </tr>\n",
       "  </thead>\n",
       "  <tbody>\n",
       "    <tr>\n",
       "      <th>379</th>\n",
       "      <td>공정위의 하도급법 등 관련 심사지침 제 개정과 관련하여 알려드립니다.</td>\n",
       "      <td>2013.12.12</td>\n",
       "      <td>공정거래 조사·소송</td>\n",
       "      <td></td>\n",
       "    </tr>\n",
       "    <tr>\n",
       "      <th>381</th>\n",
       "      <td>방위사업청, 부정당업자 제재에 과징금 부과 제도 시행</td>\n",
       "      <td>2013.07.17</td>\n",
       "      <td>방위산업·공공계약</td>\n",
       "      <td></td>\n",
       "    </tr>\n",
       "    <tr>\n",
       "      <th>382</th>\n",
       "      <td>장례식장에서의 음식물 제공용역 관련 대법원 판결의 선고</td>\n",
       "      <td>2013.07.05</td>\n",
       "      <td>조세쟁송,조세쟁송,조세쟁송,조세자문,헌법·행정소송</td>\n",
       "      <td></td>\n",
       "    </tr>\n",
       "    <tr>\n",
       "      <th>383</th>\n",
       "      <td>경제민주화 추진에 따른 가맹사업법 개정과 관련하여 알려드립니다.</td>\n",
       "      <td>2013.07.04</td>\n",
       "      <td>공정거래 조사·소송</td>\n",
       "      <td></td>\n",
       "    </tr>\n",
       "    <tr>\n",
       "      <th>384</th>\n",
       "      <td>주민등록번호의 처리를 원칙적으로 제한한 개인정보보호법 개정안 통과와 관련하여 알려드립니다</td>\n",
       "      <td>2013.07.01</td>\n",
       "      <td>정보보호·프라이버시</td>\n",
       "      <td></td>\n",
       "    </tr>\n",
       "    <tr>\n",
       "      <th>385</th>\n",
       "      <td>일감 몰아주기 등 부당지원행위 관련 공정거래법 개정안과 관련하여 알려드립니다.</td>\n",
       "      <td>2013.06.28</td>\n",
       "      <td>공정거래 조사·소송</td>\n",
       "      <td></td>\n",
       "    </tr>\n",
       "    <tr>\n",
       "      <th>386</th>\n",
       "      <td>최신 지적재산권분야 정책 동향 및 주요 판례 소개</td>\n",
       "      <td>2013.06.27</td>\n",
       "      <td>지식재산권 소송·자문,지식재산권 거래·라이선싱·전략 자문</td>\n",
       "      <td></td>\n",
       "    </tr>\n",
       "    <tr>\n",
       "      <th>387</th>\n",
       "      <td>특정대기유해물질 배출사업장 위반 유형별 조치방안</td>\n",
       "      <td>2013.06.25</td>\n",
       "      <td>환경</td>\n",
       "      <td></td>\n",
       "    </tr>\n",
       "  </tbody>\n",
       "</table>\n",
       "</div>"
      ],
      "text/plain": [
       "                                                    제목          날짜  \\\n",
       "379             공정위의 하도급법 등 관련 심사지침 제 개정과 관련하여 알려드립니다.  2013.12.12   \n",
       "381                      방위사업청, 부정당업자 제재에 과징금 부과 제도 시행  2013.07.17   \n",
       "382                     장례식장에서의 음식물 제공용역 관련 대법원 판결의 선고  2013.07.05   \n",
       "383                경제민주화 추진에 따른 가맹사업법 개정과 관련하여 알려드립니다.  2013.07.04   \n",
       "384  주민등록번호의 처리를 원칙적으로 제한한 개인정보보호법 개정안 통과와 관련하여 알려드립니다  2013.07.01   \n",
       "385        일감 몰아주기 등 부당지원행위 관련 공정거래법 개정안과 관련하여 알려드립니다.  2013.06.28   \n",
       "386                        최신 지적재산권분야 정책 동향 및 주요 판례 소개  2013.06.27   \n",
       "387                         특정대기유해물질 배출사업장 위반 유형별 조치방안  2013.06.25   \n",
       "\n",
       "                                관련주제 본문내용  \n",
       "379                       공정거래 조사·소송       \n",
       "381                        방위산업·공공계약       \n",
       "382      조세쟁송,조세쟁송,조세쟁송,조세자문,헌법·행정소송       \n",
       "383                       공정거래 조사·소송       \n",
       "384                       정보보호·프라이버시       \n",
       "385                       공정거래 조사·소송       \n",
       "386  지식재산권 소송·자문,지식재산권 거래·라이선싱·전략 자문       \n",
       "387                               환경       "
      ]
     },
     "execution_count": 17,
     "metadata": {},
     "output_type": "execute_result"
    }
   ],
   "source": [
    "df_temp = document.drop(drop_list)\n",
    "df_check_val = df_temp.loc[df_temp[\"본문내용\"] == '']\n",
    "drop_list_2 = df_check_val.index.values\n",
    "df_check_val"
   ]
  },
  {
   "cell_type": "code",
   "execution_count": 18,
   "id": "13d20a5a",
   "metadata": {},
   "outputs": [
    {
     "data": {
      "text/html": [
       "<div>\n",
       "<style scoped>\n",
       "    .dataframe tbody tr th:only-of-type {\n",
       "        vertical-align: middle;\n",
       "    }\n",
       "\n",
       "    .dataframe tbody tr th {\n",
       "        vertical-align: top;\n",
       "    }\n",
       "\n",
       "    .dataframe thead th {\n",
       "        text-align: right;\n",
       "    }\n",
       "</style>\n",
       "<table border=\"1\" class=\"dataframe\">\n",
       "  <thead>\n",
       "    <tr style=\"text-align: right;\">\n",
       "      <th></th>\n",
       "      <th>제목</th>\n",
       "      <th>날짜</th>\n",
       "      <th>관련주제</th>\n",
       "      <th>본문내용</th>\n",
       "    </tr>\n",
       "  </thead>\n",
       "  <tbody>\n",
       "    <tr>\n",
       "      <th>0</th>\n",
       "      <td>한국-인도네시아 포괄적 경제동반자협정(CEPA) 비준</td>\n",
       "      <td>2022.09.13</td>\n",
       "      <td>기업법무,해외투자,국제쟁송,관세·국제통상,동남아시아</td>\n",
       "      <td>인도네시아 국회의 한인니 CEPA 비준 및 진행 상황 인도네시아 국회의 한인니 C...</td>\n",
       "    </tr>\n",
       "    <tr>\n",
       "      <th>1</th>\n",
       "      <td>지역주택조합이 조합총회 결의 없이 체결한 계약의 효력에 관한 대법원판결(대법원 20...</td>\n",
       "      <td>2022.09.06</td>\n",
       "      <td>국내소송,건설·부동산소송,건설</td>\n",
       "      <td>주택법 시행규칙은 지역주택조합이 예산으로 정한 사항 외에 조합원에게 부담이 될 계약...</td>\n",
       "    </tr>\n",
       "    <tr>\n",
       "      <th>2</th>\n",
       "      <td>금융투자업자 간 업무용으로 지정되지 않은 정보통신수단을 사용하여 이루어진 매매 교섭...</td>\n",
       "      <td>2022.09.05</td>\n",
       "      <td>자본시장,국내소송,증권금융소송,금융회사,은행,증권,자산운용,비은행 금융기관</td>\n",
       "      <td>배경 배경 배경 1 금융투자업자의 주문기록 유지의무 및 업무용 정보통신수단 지정 ...</td>\n",
       "    </tr>\n",
       "    <tr>\n",
       "      <th>3</th>\n",
       "      <td>도심복합사업 개편 – 정부의 국민 주거안정 실현방안 발표 및 ‘도심 복합개발 지원에...</td>\n",
       "      <td>2022.08.23</td>\n",
       "      <td>국내소송,건설·부동산소송,건설</td>\n",
       "      <td>정부와 국회는 도심 내 주택을 신속히 공급하기 위해 공공주택 특별법을 개정하여 도심...</td>\n",
       "    </tr>\n",
       "    <tr>\n",
       "      <th>4</th>\n",
       "      <td>2022년도 지방세입 관계법률 개정안 주요 사항</td>\n",
       "      <td>2022.08.12</td>\n",
       "      <td>조세</td>\n",
       "      <td>행정안전부는 2022 8 11 지방세발전위원회를 개최하여 경제 활력 제고와 민생안정...</td>\n",
       "    </tr>\n",
       "    <tr>\n",
       "      <th>...</th>\n",
       "      <td>...</td>\n",
       "      <td>...</td>\n",
       "      <td>...</td>\n",
       "      <td>...</td>\n",
       "    </tr>\n",
       "    <tr>\n",
       "      <th>373</th>\n",
       "      <td>가맹사업법 시행령 개정안과 관련하여 알려드립니다.</td>\n",
       "      <td>2014.02.13</td>\n",
       "      <td>공정거래 조사·소송</td>\n",
       "      <td>가맹사업법 시행령 개정안과 관련하여 가맹사업법 시행령 개정안과 관련하여 가맹사업법 ...</td>\n",
       "    </tr>\n",
       "    <tr>\n",
       "      <th>374</th>\n",
       "      <td>부당지원행위 등 공정거래법 시행령 개정 및 부당특약 등 하도급법 시행령 개정과 관련...</td>\n",
       "      <td>2014.02.11</td>\n",
       "      <td>공정거래 조사·소송</td>\n",
       "      <td>부당지원행위 등 공정거래법 시행령 개정 부당지원행위 등 공정거래법 시행령 개정 부당...</td>\n",
       "    </tr>\n",
       "    <tr>\n",
       "      <th>375</th>\n",
       "      <td>환경오염물질 배출시설 관리체계 전면 개편</td>\n",
       "      <td>2014.02.06</td>\n",
       "      <td>환경,환경</td>\n",
       "      <td>환경오염물질 배출시설 관리체계 전면 개편 환경오염물질 배출시설 관리체계 전면 개편 ...</td>\n",
       "    </tr>\n",
       "    <tr>\n",
       "      <th>376</th>\n",
       "      <td>상해자유무역구 부가가치통신업무 개방</td>\n",
       "      <td>2014.02.04</td>\n",
       "      <td>중국</td>\n",
       "      <td>상해자유무역구 부가가치통신업무 개방 상해자유무역구 부가가치통신업무 개방 상해자유무역...</td>\n",
       "    </tr>\n",
       "    <tr>\n",
       "      <th>377</th>\n",
       "      <td>중국 &lt;회사법&gt; 수정안</td>\n",
       "      <td>2014.01.14</td>\n",
       "      <td>중국</td>\n",
       "      <td>중국 회사법 수정안 중국 회사법 수정안 중국 회사법 수정안 1 배경 1 배경 1 배...</td>\n",
       "    </tr>\n",
       "  </tbody>\n",
       "</table>\n",
       "<p>365 rows × 4 columns</p>\n",
       "</div>"
      ],
      "text/plain": [
       "                                                    제목          날짜  \\\n",
       "0                        한국-인도네시아 포괄적 경제동반자협정(CEPA) 비준  2022.09.13   \n",
       "1    지역주택조합이 조합총회 결의 없이 체결한 계약의 효력에 관한 대법원판결(대법원 20...  2022.09.06   \n",
       "2    금융투자업자 간 업무용으로 지정되지 않은 정보통신수단을 사용하여 이루어진 매매 교섭...  2022.09.05   \n",
       "3    도심복합사업 개편 – 정부의 국민 주거안정 실현방안 발표 및 ‘도심 복합개발 지원에...  2022.08.23   \n",
       "4                           2022년도 지방세입 관계법률 개정안 주요 사항  2022.08.12   \n",
       "..                                                 ...         ...   \n",
       "373                        가맹사업법 시행령 개정안과 관련하여 알려드립니다.  2014.02.13   \n",
       "374  부당지원행위 등 공정거래법 시행령 개정 및 부당특약 등 하도급법 시행령 개정과 관련...  2014.02.11   \n",
       "375                             환경오염물질 배출시설 관리체계 전면 개편  2014.02.06   \n",
       "376                                상해자유무역구 부가가치통신업무 개방  2014.02.04   \n",
       "377                                       중국 <회사법> 수정안  2014.01.14   \n",
       "\n",
       "                                          관련주제  \\\n",
       "0                 기업법무,해외투자,국제쟁송,관세·국제통상,동남아시아   \n",
       "1                             국내소송,건설·부동산소송,건설   \n",
       "2    자본시장,국내소송,증권금융소송,금융회사,은행,증권,자산운용,비은행 금융기관   \n",
       "3                             국내소송,건설·부동산소송,건설   \n",
       "4                                           조세   \n",
       "..                                         ...   \n",
       "373                                 공정거래 조사·소송   \n",
       "374                                 공정거래 조사·소송   \n",
       "375                                      환경,환경   \n",
       "376                                         중국   \n",
       "377                                         중국   \n",
       "\n",
       "                                                  본문내용  \n",
       "0     인도네시아 국회의 한인니 CEPA 비준 및 진행 상황 인도네시아 국회의 한인니 C...  \n",
       "1    주택법 시행규칙은 지역주택조합이 예산으로 정한 사항 외에 조합원에게 부담이 될 계약...  \n",
       "2     배경 배경 배경 1 금융투자업자의 주문기록 유지의무 및 업무용 정보통신수단 지정 ...  \n",
       "3    정부와 국회는 도심 내 주택을 신속히 공급하기 위해 공공주택 특별법을 개정하여 도심...  \n",
       "4    행정안전부는 2022 8 11 지방세발전위원회를 개최하여 경제 활력 제고와 민생안정...  \n",
       "..                                                 ...  \n",
       "373  가맹사업법 시행령 개정안과 관련하여 가맹사업법 시행령 개정안과 관련하여 가맹사업법 ...  \n",
       "374  부당지원행위 등 공정거래법 시행령 개정 부당지원행위 등 공정거래법 시행령 개정 부당...  \n",
       "375  환경오염물질 배출시설 관리체계 전면 개편 환경오염물질 배출시설 관리체계 전면 개편 ...  \n",
       "376  상해자유무역구 부가가치통신업무 개방 상해자유무역구 부가가치통신업무 개방 상해자유무역...  \n",
       "377  중국 회사법 수정안 중국 회사법 수정안 중국 회사법 수정안 1 배경 1 배경 1 배...  \n",
       "\n",
       "[365 rows x 4 columns]"
      ]
     },
     "execution_count": 18,
     "metadata": {},
     "output_type": "execute_result"
    }
   ],
   "source": [
    "df_final = df_temp.drop(drop_list_2)\n",
    "df_final"
   ]
  },
  {
   "cell_type": "code",
   "execution_count": 19,
   "id": "494cc201",
   "metadata": {},
   "outputs": [
    {
     "data": {
      "text/html": [
       "<div>\n",
       "<style scoped>\n",
       "    .dataframe tbody tr th:only-of-type {\n",
       "        vertical-align: middle;\n",
       "    }\n",
       "\n",
       "    .dataframe tbody tr th {\n",
       "        vertical-align: top;\n",
       "    }\n",
       "\n",
       "    .dataframe thead th {\n",
       "        text-align: right;\n",
       "    }\n",
       "</style>\n",
       "<table border=\"1\" class=\"dataframe\">\n",
       "  <thead>\n",
       "    <tr style=\"text-align: right;\">\n",
       "      <th></th>\n",
       "      <th>제목</th>\n",
       "      <th>날짜</th>\n",
       "      <th>관련주제</th>\n",
       "      <th>본문내용</th>\n",
       "    </tr>\n",
       "  </thead>\n",
       "  <tbody>\n",
       "  </tbody>\n",
       "</table>\n",
       "</div>"
      ],
      "text/plain": [
       "Empty DataFrame\n",
       "Columns: [제목, 날짜, 관련주제, 본문내용]\n",
       "Index: []"
      ]
     },
     "execution_count": 19,
     "metadata": {},
     "output_type": "execute_result"
    }
   ],
   "source": [
    "df_final.loc[df_final[\"본문내용\"] == '']"
   ]
  },
  {
   "cell_type": "markdown",
   "id": "bd1cbab9",
   "metadata": {},
   "source": [
    "### check for articles without topics"
   ]
  },
  {
   "cell_type": "code",
   "execution_count": 20,
   "id": "5fb12c2f",
   "metadata": {
    "scrolled": true
   },
   "outputs": [
    {
     "data": {
      "text/html": [
       "<div>\n",
       "<style scoped>\n",
       "    .dataframe tbody tr th:only-of-type {\n",
       "        vertical-align: middle;\n",
       "    }\n",
       "\n",
       "    .dataframe tbody tr th {\n",
       "        vertical-align: top;\n",
       "    }\n",
       "\n",
       "    .dataframe thead th {\n",
       "        text-align: right;\n",
       "    }\n",
       "</style>\n",
       "<table border=\"1\" class=\"dataframe\">\n",
       "  <thead>\n",
       "    <tr style=\"text-align: right;\">\n",
       "      <th></th>\n",
       "      <th>제목</th>\n",
       "      <th>날짜</th>\n",
       "      <th>관련주제</th>\n",
       "      <th>본문내용</th>\n",
       "    </tr>\n",
       "  </thead>\n",
       "  <tbody>\n",
       "    <tr>\n",
       "      <th>191</th>\n",
       "      <td>금융소비자보호에 관한 법률 국회본회의통과</td>\n",
       "      <td>2020.03.12</td>\n",
       "      <td></td>\n",
       "      <td>금융소비자보호에 관한 법률 금융소비자보호에 금융소비자보호에 관한 관한 법률 법률 국...</td>\n",
       "    </tr>\n",
       "  </tbody>\n",
       "</table>\n",
       "</div>"
      ],
      "text/plain": [
       "                         제목          날짜 관련주제  \\\n",
       "191  금융소비자보호에 관한 법률 국회본회의통과  2020.03.12        \n",
       "\n",
       "                                                  본문내용  \n",
       "191  금융소비자보호에 관한 법률 금융소비자보호에 금융소비자보호에 관한 관한 법률 법률 국...  "
      ]
     },
     "execution_count": 20,
     "metadata": {},
     "output_type": "execute_result"
    }
   ],
   "source": [
    "df_final.loc[df_final[\"관련주제\"] == '']\n",
    "## checked the original article and there were no topics listed"
   ]
  },
  {
   "cell_type": "markdown",
   "id": "adf71512",
   "metadata": {},
   "source": [
    "# nan values 정리끝!"
   ]
  },
  {
   "cell_type": "code",
   "execution_count": 21,
   "id": "c47aae7b",
   "metadata": {
    "scrolled": true
   },
   "outputs": [
    {
     "name": "stdout",
     "output_type": "stream",
     "text": [
      "365 건 저장완료..\n"
     ]
    }
   ],
   "source": [
    "ARTICLE_LIST = df_final.reset_index(drop=True)\n",
    "db_save(ARTICLE_LIST, '법무법인_태평양_법률자료.db','태평양_edited')"
   ]
  }
 ],
 "metadata": {
  "kernelspec": {
   "display_name": "Python 3 (ipykernel)",
   "language": "python",
   "name": "python3"
  },
  "language_info": {
   "codemirror_mode": {
    "name": "ipython",
    "version": 3
   },
   "file_extension": ".py",
   "mimetype": "text/x-python",
   "name": "python",
   "nbconvert_exporter": "python",
   "pygments_lexer": "ipython3",
   "version": "3.9.12"
  }
 },
 "nbformat": 4,
 "nbformat_minor": 5
}
