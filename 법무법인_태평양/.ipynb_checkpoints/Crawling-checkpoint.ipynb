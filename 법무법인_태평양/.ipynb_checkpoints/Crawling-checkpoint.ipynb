{
 "cells": [
  {
   "cell_type": "markdown",
   "id": "e88604e2",
   "metadata": {},
   "source": [
    "# Selenium for 법무법인_태평양_법률자료"
   ]
  },
  {
   "cell_type": "markdown",
   "id": "120b3a2a",
   "metadata": {},
   "source": [
    "### Import Files"
   ]
  },
  {
   "cell_type": "code",
   "execution_count": 1,
   "id": "0a86f99d",
   "metadata": {},
   "outputs": [],
   "source": [
    "import requests\n",
    "import lxml.html\n",
    "import sqlite3 as sq3\n",
    "from pandas.io import sql\n",
    "import os\n",
    "import re\n",
    "import string\n",
    "import pandas as pd\n",
    "from tabulate import tabulate\n",
    "from selenium.webdriver import Chrome\n",
    "import time\n",
    "import warnings\n",
    "warnings.simplefilter(action='ignore', category=FutureWarning)\n",
    "from selenium import webdriver\n",
    "from selenium.webdriver import ActionChains\n",
    "import csv"
   ]
  },
  {
   "cell_type": "markdown",
   "id": "1928fe1b",
   "metadata": {},
   "source": [
    "## get_urls()\n",
    "- gets the list of urls to detail pages"
   ]
  },
  {
   "cell_type": "code",
   "execution_count": 2,
   "id": "4650d631",
   "metadata": {},
   "outputs": [],
   "source": [
    "def get_urls():\n",
    "    \n",
    "    page = 1\n",
    "    url_list = []\n",
    "    \n",
    "    response = requests.get('https://www.bkl.co.kr/law/insight/legalDataList?searchCondition=&searchKeyword=&searchDateFrom=&searchDateTo=&orderBy=orderByNew&pageIndex={}&whichOne=NEWSLETTER&menuType=law&lawNo=&expertNo=&newsletterNo=&memberNo=&fieldNo=&lang=ko'.format(page))\n",
    "    root = lxml.html.fromstring(response.content)\n",
    "\n",
    "    # 페이지 번호 중에서 max 페이지 가져오기    \n",
    "    a = root.xpath('//*[@id=\"searchForm\"]/div/div[3]/div[4]/div/div/div[4]/a')[0]\n",
    "    onclick = a.get('onclick')\n",
    "    max_page = int(onclick.split(\"'\")[1])\n",
    "    \n",
    "    while(True):\n",
    "        \n",
    "        response = requests.get('https://www.bkl.co.kr/law/insight/legalDataList?searchCondition=&searchKeyword=&searchDateFrom=&searchDateTo=&orderBy=orderByNew&pageIndex={}&whichOne=NEWSLETTER&menuType=law&lawNo=&expertNo=&newsletterNo=&memberNo=&fieldNo=&lang=ko'.format(page))\n",
    "        root = lxml.html.fromstring(response.content)\n",
    "        for li in root.xpath('//*[@id=\"searchForm\"]/div/div[3]/div[3]/ul/li') :\n",
    "            a = li.xpath('div/a')[0]\n",
    "            url_1 = a.get('href')\n",
    "            url_2 = int(url_1.split(\"'\")[1])\n",
    "            url_3 = 'https://www.bkl.co.kr/law/insight/newsletter/detail?searchCondition=&searchKeyword=&searchDateFrom=&searchDateTo=&orderBy=orderByNew&pageIndex=1&whichOne=NEWSLETTER&menuType=law&lawNo=&expertNo=&newsletterNo={}&memberNo=&fieldNo=&lang=ko'.format(url_2)\n",
    "            url_list.append(url_3)\n",
    "\n",
    "        if (page >= max_page):\n",
    "            break\n",
    "        else:\n",
    "            page = page + 1\n",
    "\n",
    "        time.sleep(1)\n",
    "        \n",
    "    return url_list"
   ]
  },
  {
   "cell_type": "markdown",
   "id": "abdb68b4",
   "metadata": {},
   "source": [
    "## Save URL list into a file"
   ]
  },
  {
   "cell_type": "code",
   "execution_count": 3,
   "id": "e13c0084",
   "metadata": {},
   "outputs": [],
   "source": [
    "def saveURLs(url_list, file_name):\n",
    "    # open file in write mode\n",
    "    with open(file_name, 'w') as fp:\n",
    "        for url in url_list:\n",
    "            # write each item on a new line\n",
    "            fp.write(\"%s\\n\" % url)\n",
    "        print('URLs saved!')"
   ]
  },
  {
   "cell_type": "code",
   "execution_count": 4,
   "id": "addff787",
   "metadata": {},
   "outputs": [],
   "source": [
    "def readURLs(file_name):\n",
    "    # empty list to read list from a file\n",
    "    urls = []\n",
    "    # open file and read the content in a list\n",
    "    with open(file_name, 'r') as fp:\n",
    "        for line in fp:\n",
    "            # remove linebreak from a current name\n",
    "            # linebreak is the last character of each line\n",
    "            x = line[:-1]\n",
    "\n",
    "            # add current item to the list\n",
    "            urls.append(x)\n",
    "    return(urls)"
   ]
  },
  {
   "cell_type": "markdown",
   "id": "0eca9239",
   "metadata": {},
   "source": [
    "## remove_punc()\n",
    "- removes punctuations from string"
   ]
  },
  {
   "cell_type": "code",
   "execution_count": 5,
   "id": "a031105b",
   "metadata": {},
   "outputs": [],
   "source": [
    "def remove_punc(data):\n",
    "\n",
    "    punc = '[!\"#$%&\\'()*+,-./:;<=>?[\\]^_`{|}~“”·「」△《》•‘’○※▷【】『』·-“”)I]'\n",
    "    new_string = re.sub(punc, '', data) # 특수문자 제거\n",
    "    new_string = re.sub('\\n', ' ', new_string) # newline 제거\n",
    "    new_string = re.sub('\\\\s+', ' ', new_string) # multiple spaces 제거\n",
    "    return new_string"
   ]
  },
  {
   "cell_type": "markdown",
   "id": "484c4634",
   "metadata": {},
   "source": [
    "## db_save()\n",
    "- saves data as db file"
   ]
  },
  {
   "cell_type": "code",
   "execution_count": 6,
   "id": "0e4a96d1",
   "metadata": {},
   "outputs": [],
   "source": [
    "def db_save(ARTICLE_LIST, db_name, table_name):\n",
    "    with sq3.connect(os.path.join('.',db_name)) as con: # sqlite DB 파일이 존재하지 않는 경우 파일생성\n",
    "        try:\n",
    "            ARTICLE_LIST.to_sql(name = table_name, con = con, index = False, if_exists='replace') \n",
    "            #if_exists : {'fail', 'replace', 'append'} default : fail\n",
    "        except Exception as e:\n",
    "            print(str(e))\n",
    "        print(len(ARTICLE_LIST), '건 저장완료..')"
   ]
  },
  {
   "cell_type": "markdown",
   "id": "60739235",
   "metadata": {},
   "source": [
    "## db_select()\n",
    "- read data from db file"
   ]
  },
  {
   "cell_type": "code",
   "execution_count": 7,
   "id": "d848778d",
   "metadata": {},
   "outputs": [],
   "source": [
    "def db_select(db_name, table_name):\n",
    "    with sq3.connect(db_name) as con: \n",
    "        try:\n",
    "            query = 'SELECT * FROM {}'.format(table_name)\n",
    "            df = pd.read_sql(query, con = con)\n",
    "        except Exception as e:\n",
    "            print(str(e)) \n",
    "        return df"
   ]
  },
  {
   "cell_type": "code",
   "execution_count": 8,
   "id": "dcbd29b4",
   "metadata": {},
   "outputs": [],
   "source": [
    "def db_delete(db_name, table_name):\n",
    "    with sq3.connect(db_name) as con: \n",
    "        try:\n",
    "            cur = con.cursor()\n",
    "            sql = 'DELETE FROM {}'.format(table_name)\n",
    "            cur.execute(sql)\n",
    "        except Exception as e:\n",
    "            print(str(e))"
   ]
  },
  {
   "cell_type": "markdown",
   "id": "5c1f7aba",
   "metadata": {},
   "source": [
    "## get_info()\n",
    "- returns detailed information on the article pages as list"
   ]
  },
  {
   "cell_type": "code",
   "execution_count": 9,
   "id": "caee9d56",
   "metadata": {},
   "outputs": [],
   "source": [
    "def get_info(url):\n",
    "    details = []\n",
    "    article = []\n",
    "    topic = []\n",
    "    topicString = \"\"\n",
    "    articleString = \"\"\n",
    "    \n",
    "    browser.get(url)\n",
    "    time.sleep(2)\n",
    "    \n",
    "    title = browser.find_element('xpath','//*[@id=\"listConditionVO\"]/div/div[1]/div/div[2]').text\n",
    "    date = browser.find_element('xpath','//*[@id=\"listConditionVO\"]/div/div[1]/div/div[1]').text\n",
    "    topics = browser.find_elements('xpath','//*[@id=\"listConditionVO\"]/div/div[2]/div/div[2]/ul/li')\n",
    "    \n",
    "    # click expand button\n",
    "    if (browser.find_element('xpath','//*[@id=\"listConditionVO\"]/div/div[1]/div/button')):\n",
    "        click_expand = browser.find_element('xpath','//*[@id=\"listConditionVO\"]/div/div[1]/div/button').click()\n",
    "    text_box = browser.find_element('xpath','//div[@class=\"txt\"]')\n",
    "\n",
    "    for eachTopic in topics:\n",
    "        t1 = eachTopic.find_element('xpath','a').text\n",
    "        topic.append(t1)\n",
    "    topicString = \",\".join(topic)\n",
    "    \n",
    "    child_el = text_box.find_elements('xpath','.//*')\n",
    "    for eachText in child_el:\n",
    "        article.append(eachText.text)\n",
    "        browser.implicitly_wait(5)\n",
    "    articleString = ' '.join(article)\n",
    "    \n",
    "    browser.implicitly_wait(5)\n",
    "    \n",
    "    words = remove_punc(articleString)\n",
    "    details.append(title)\n",
    "    details.append(date)\n",
    "    details.append(topicString)\n",
    "    details.append(words)\n",
    "    \n",
    "    return details"
   ]
  },
  {
   "cell_type": "markdown",
   "id": "71dd4079",
   "metadata": {},
   "source": [
    "## db_save_as_csv()\n",
    "- saves dataframe as csv"
   ]
  },
  {
   "cell_type": "code",
   "execution_count": 10,
   "id": "981d9e6f",
   "metadata": {},
   "outputs": [],
   "source": [
    "def db_save_as_csv(data):\n",
    "    data.to_csv(\"법무법인_태평양_법률자료.csv\", index=False, encoding='utf-8')"
   ]
  },
  {
   "cell_type": "markdown",
   "id": "3beef7df",
   "metadata": {},
   "source": [
    "### ---------------------------------------------------------------------------------------------------------------------\n",
    "# Main\n",
    "This is the main part which uses functions to read articles and saves the data as csv file\n",
    "### ---------------------------------------------------------------------------------------------------------------------"
   ]
  },
  {
   "cell_type": "code",
   "execution_count": 11,
   "id": "2c9914f9",
   "metadata": {
    "scrolled": true
   },
   "outputs": [
    {
     "name": "stderr",
     "output_type": "stream",
     "text": [
      "C:\\Users\\user\\AppData\\Local\\Temp\\ipykernel_14684\\1671533086.py:16: DeprecationWarning: executable_path has been deprecated, please pass in a Service object\n",
      "  browser = webdriver.Chrome('C:/Users/user/.wdm/drivers/chromedriver/win32/105.0.5195/chromedriver.exe', chrome_options = options) #드라이버경로 지정\n",
      "C:\\Users\\user\\AppData\\Local\\Temp\\ipykernel_14684\\1671533086.py:16: DeprecationWarning: use options instead of chrome_options\n",
      "  browser = webdriver.Chrome('C:/Users/user/.wdm/drivers/chromedriver/win32/105.0.5195/chromedriver.exe', chrome_options = options) #드라이버경로 지정\n"
     ]
    },
    {
     "name": "stdout",
     "output_type": "stream",
     "text": [
      "405 건 저장완료..\n"
     ]
    }
   ],
   "source": [
    "from selenium.webdriver.chrome.options import Options\n",
    "\n",
    "options = Options()\n",
    "\n",
    "#바이너리 위치 설정\n",
    "#options.binary_location= 'C:\\Program Files\\Google\\Chrome\\Application\\chrome.exe'\n",
    "\n",
    "#urls = get_urls()\n",
    "df_list = []\n",
    "URL_FILE = \"url_list.txt\"\n",
    "TABLE_NAME = \"태평양\"\n",
    "\n",
    "#saveURLs(urls, URL_FILE)          # save urls to txt file\n",
    "url_list = readURLs(URL_FILE)     # read urls from txt file\n",
    "\n",
    "browser = webdriver.Chrome('C:/Users/user/.wdm/drivers/chromedriver/win32/105.0.5195/chromedriver.exe', chrome_options = options) #드라이버경로 지정\n",
    "\n",
    "for url in url_list:\n",
    "    details = get_info(url)\n",
    "    \n",
    "    df = pd.DataFrame([{\n",
    "        \"제목\": details[0],\n",
    "        \"날짜\": details[1],\n",
    "        \"관련주제\": details[2],\n",
    "        \"본문내용\": details[3]\n",
    "    }])\n",
    "    \n",
    "    df_list.append(df)\n",
    "    \n",
    "    browser.implicitly_wait(4)\n",
    "\n",
    "ARTICLE_LIST = pd.concat(df_list)\n",
    "db_save(ARTICLE_LIST, '법무법인_태평양_법률자료.db',TABLE_NAME)\n",
    "db_save_as_csv(ARTICLE_LIST)\n",
    "\n",
    "browser.close()\n",
    "browser.quit()"
   ]
  },
  {
   "cell_type": "code",
   "execution_count": 12,
   "id": "aa1b6f7e",
   "metadata": {},
   "outputs": [
    {
     "data": {
      "text/html": [
       "<div>\n",
       "<style scoped>\n",
       "    .dataframe tbody tr th:only-of-type {\n",
       "        vertical-align: middle;\n",
       "    }\n",
       "\n",
       "    .dataframe tbody tr th {\n",
       "        vertical-align: top;\n",
       "    }\n",
       "\n",
       "    .dataframe thead th {\n",
       "        text-align: right;\n",
       "    }\n",
       "</style>\n",
       "<table border=\"1\" class=\"dataframe\">\n",
       "  <thead>\n",
       "    <tr style=\"text-align: right;\">\n",
       "      <th></th>\n",
       "      <th>제목</th>\n",
       "      <th>날짜</th>\n",
       "      <th>관련주제</th>\n",
       "      <th>본문내용</th>\n",
       "    </tr>\n",
       "  </thead>\n",
       "  <tbody>\n",
       "    <tr>\n",
       "      <th>0</th>\n",
       "      <td>한국-인도네시아 포괄적 경제동반자협정(CEPA) 비준</td>\n",
       "      <td>2022.09.13</td>\n",
       "      <td>기업법무,해외투자,국제쟁송,관세·국제통상,동남아시아</td>\n",
       "      <td>인도네시아 국회의 한인니 CEPA 비준 및 진행 상황 인도네시아 국회의 한인니 C...</td>\n",
       "    </tr>\n",
       "    <tr>\n",
       "      <th>1</th>\n",
       "      <td>지역주택조합이 조합총회 결의 없이 체결한 계약의 효력에 관한 대법원판결(대법원 20...</td>\n",
       "      <td>2022.09.06</td>\n",
       "      <td>국내소송,건설·부동산소송,건설</td>\n",
       "      <td>주택법 시행규칙은 지역주택조합이 예산으로 정한 사항 외에 조합원에게 부담이 될 계약...</td>\n",
       "    </tr>\n",
       "    <tr>\n",
       "      <th>2</th>\n",
       "      <td>금융투자업자 간 업무용으로 지정되지 않은 정보통신수단을 사용하여 이루어진 매매 교섭...</td>\n",
       "      <td>2022.09.05</td>\n",
       "      <td>자본시장,국내소송,증권금융소송,금융회사,은행,증권,자산운용,비은행 금융기관</td>\n",
       "      <td>배경 배경 배경 1 금융투자업자의 주문기록 유지의무 및 업무용 정보통신수단 지정 ...</td>\n",
       "    </tr>\n",
       "    <tr>\n",
       "      <th>3</th>\n",
       "      <td>도심복합사업 개편 – 정부의 국민 주거안정 실현방안 발표 및 ‘도심 복합개발 지원에...</td>\n",
       "      <td>2022.08.23</td>\n",
       "      <td>국내소송,건설·부동산소송,건설</td>\n",
       "      <td>정부와 국회는 도심 내 주택을 신속히 공급하기 위해 공공주택 특별법을 개정하여 도심...</td>\n",
       "    </tr>\n",
       "    <tr>\n",
       "      <th>4</th>\n",
       "      <td>2022년도 지방세입 관계법률 개정안 주요 사항</td>\n",
       "      <td>2022.08.12</td>\n",
       "      <td>조세</td>\n",
       "      <td>행정안전부는 2022 8 11 지방세발전위원회를 개최하여 경제 활력 제고와 민생안정...</td>\n",
       "    </tr>\n",
       "    <tr>\n",
       "      <th>...</th>\n",
       "      <td>...</td>\n",
       "      <td>...</td>\n",
       "      <td>...</td>\n",
       "      <td>...</td>\n",
       "    </tr>\n",
       "    <tr>\n",
       "      <th>400</th>\n",
       "      <td>BKL Newsletter - Spring 2013</td>\n",
       "      <td>2013.04.10</td>\n",
       "      <td>인사·노무,공정거래 조사·소송,국제쟁송,기업인수합병,보험,일반민사소송,자본시장,조세...</td>\n",
       "      <td></td>\n",
       "    </tr>\n",
       "    <tr>\n",
       "      <th>401</th>\n",
       "      <td>BKL Legal Update - 3. 20. 방송사 전산망 마비사태와 관련하여 말...</td>\n",
       "      <td>2013.03.22</td>\n",
       "      <td>정보보호·프라이버시</td>\n",
       "      <td></td>\n",
       "    </tr>\n",
       "    <tr>\n",
       "      <th>402</th>\n",
       "      <td>BKL Legal Update - 3. 20. 금융기관 전산망 마비사태와 관련하여 ...</td>\n",
       "      <td>2013.03.22</td>\n",
       "      <td>정보보호·프라이버시</td>\n",
       "      <td></td>\n",
       "    </tr>\n",
       "    <tr>\n",
       "      <th>403</th>\n",
       "      <td>BKL Legal Update - 환경부의 특정수질유해물질 배출 전면조사 관련 예상...</td>\n",
       "      <td>2013.02.27</td>\n",
       "      <td>환경</td>\n",
       "      <td></td>\n",
       "    </tr>\n",
       "    <tr>\n",
       "      <th>404</th>\n",
       "      <td>BKL Legal Update -「제약분야 거래 공정화를 위한 가이드라인(안)」제정</td>\n",
       "      <td>2013.01.17</td>\n",
       "      <td>공정거래 조사·소송,제약·의료</td>\n",
       "      <td></td>\n",
       "    </tr>\n",
       "  </tbody>\n",
       "</table>\n",
       "<p>405 rows × 4 columns</p>\n",
       "</div>"
      ],
      "text/plain": [
       "                                                    제목          날짜  \\\n",
       "0                        한국-인도네시아 포괄적 경제동반자협정(CEPA) 비준  2022.09.13   \n",
       "1    지역주택조합이 조합총회 결의 없이 체결한 계약의 효력에 관한 대법원판결(대법원 20...  2022.09.06   \n",
       "2    금융투자업자 간 업무용으로 지정되지 않은 정보통신수단을 사용하여 이루어진 매매 교섭...  2022.09.05   \n",
       "3    도심복합사업 개편 – 정부의 국민 주거안정 실현방안 발표 및 ‘도심 복합개발 지원에...  2022.08.23   \n",
       "4                           2022년도 지방세입 관계법률 개정안 주요 사항  2022.08.12   \n",
       "..                                                 ...         ...   \n",
       "400                       BKL Newsletter - Spring 2013  2013.04.10   \n",
       "401  BKL Legal Update - 3. 20. 방송사 전산망 마비사태와 관련하여 말...  2013.03.22   \n",
       "402  BKL Legal Update - 3. 20. 금융기관 전산망 마비사태와 관련하여 ...  2013.03.22   \n",
       "403  BKL Legal Update - 환경부의 특정수질유해물질 배출 전면조사 관련 예상...  2013.02.27   \n",
       "404     BKL Legal Update -「제약분야 거래 공정화를 위한 가이드라인(안)」제정  2013.01.17   \n",
       "\n",
       "                                                  관련주제  \\\n",
       "0                         기업법무,해외투자,국제쟁송,관세·국제통상,동남아시아   \n",
       "1                                     국내소송,건설·부동산소송,건설   \n",
       "2            자본시장,국내소송,증권금융소송,금융회사,은행,증권,자산운용,비은행 금융기관   \n",
       "3                                     국내소송,건설·부동산소송,건설   \n",
       "4                                                   조세   \n",
       "..                                                 ...   \n",
       "400  인사·노무,공정거래 조사·소송,국제쟁송,기업인수합병,보험,일반민사소송,자본시장,조세...   \n",
       "401                                         정보보호·프라이버시   \n",
       "402                                         정보보호·프라이버시   \n",
       "403                                                 환경   \n",
       "404                                   공정거래 조사·소송,제약·의료   \n",
       "\n",
       "                                                  본문내용  \n",
       "0     인도네시아 국회의 한인니 CEPA 비준 및 진행 상황 인도네시아 국회의 한인니 C...  \n",
       "1    주택법 시행규칙은 지역주택조합이 예산으로 정한 사항 외에 조합원에게 부담이 될 계약...  \n",
       "2     배경 배경 배경 1 금융투자업자의 주문기록 유지의무 및 업무용 정보통신수단 지정 ...  \n",
       "3    정부와 국회는 도심 내 주택을 신속히 공급하기 위해 공공주택 특별법을 개정하여 도심...  \n",
       "4    행정안전부는 2022 8 11 지방세발전위원회를 개최하여 경제 활력 제고와 민생안정...  \n",
       "..                                                 ...  \n",
       "400                                                     \n",
       "401                                                     \n",
       "402                                                     \n",
       "403                                                     \n",
       "404                                                     \n",
       "\n",
       "[405 rows x 4 columns]"
      ]
     },
     "execution_count": 12,
     "metadata": {},
     "output_type": "execute_result"
    }
   ],
   "source": [
    "df1 = db_select('법무법인_태평양_법률자료.db', TABLE_NAME)\n",
    "df1"
   ]
  },
  {
   "cell_type": "code",
   "execution_count": 21,
   "id": "fefda602",
   "metadata": {},
   "outputs": [
    {
     "data": {
      "text/plain": [
       "''"
      ]
     },
     "execution_count": 21,
     "metadata": {},
     "output_type": "execute_result"
    }
   ],
   "source": [
    "df1.iloc[400,3]"
   ]
  },
  {
   "cell_type": "code",
   "execution_count": 14,
   "id": "b88bbbff",
   "metadata": {},
   "outputs": [
    {
     "data": {
      "text/plain": [
       "제목      False\n",
       "날짜      False\n",
       "관련주제    False\n",
       "본문내용    False\n",
       "dtype: bool"
      ]
     },
     "execution_count": 14,
     "metadata": {},
     "output_type": "execute_result"
    }
   ],
   "source": [
    "df1.isna().any()"
   ]
  },
  {
   "cell_type": "code",
   "execution_count": 15,
   "id": "8fb6d5a0",
   "metadata": {},
   "outputs": [
    {
     "data": {
      "text/plain": [
       "array([281, 286, 291, 301, 307, 316, 324, 333, 340, 347, 351, 359, 368,\n",
       "       378, 379, 380, 381, 382, 383, 384, 385, 386, 387, 388, 389, 390,\n",
       "       391, 392, 393, 394, 395, 396, 397, 398, 399, 400, 401, 402, 403,\n",
       "       404], dtype=int64)"
      ]
     },
     "execution_count": 15,
     "metadata": {},
     "output_type": "execute_result"
    }
   ],
   "source": [
    "index_no_art = df1.loc[df1['본문내용'] == ''].index.values\n",
    "index_no_art"
   ]
  },
  {
   "cell_type": "code",
   "execution_count": 19,
   "id": "d636c554",
   "metadata": {},
   "outputs": [
    {
     "data": {
      "text/plain": [
       "40"
      ]
     },
     "execution_count": 19,
     "metadata": {},
     "output_type": "execute_result"
    }
   ],
   "source": [
    "len(index_no_art)"
   ]
  }
 ],
 "metadata": {
  "kernelspec": {
   "display_name": "Python 3 (ipykernel)",
   "language": "python",
   "name": "python3"
  },
  "language_info": {
   "codemirror_mode": {
    "name": "ipython",
    "version": 3
   },
   "file_extension": ".py",
   "mimetype": "text/x-python",
   "name": "python",
   "nbconvert_exporter": "python",
   "pygments_lexer": "ipython3",
   "version": "3.9.12"
  }
 },
 "nbformat": 4,
 "nbformat_minor": 5
}
