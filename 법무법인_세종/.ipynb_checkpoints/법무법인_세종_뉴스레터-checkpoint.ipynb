{
 "cells": [
  {
   "cell_type": "markdown",
   "id": "e88604e2",
   "metadata": {},
   "source": [
    "# Selenium for 법무법인_세종_뉴스레터"
   ]
  },
  {
   "cell_type": "markdown",
   "id": "120b3a2a",
   "metadata": {},
   "source": [
    "### Import Files"
   ]
  },
  {
   "cell_type": "code",
   "execution_count": 1,
   "id": "0a86f99d",
   "metadata": {},
   "outputs": [],
   "source": [
    "import requests\n",
    "import lxml.html\n",
    "import sqlite3 as sq3\n",
    "from pandas.io import sql\n",
    "import os\n",
    "import re\n",
    "import string\n",
    "import pandas as pd\n",
    "from tabulate import tabulate\n",
    "from selenium.webdriver import Chrome\n",
    "from selenium.webdriver.chrome.service import Service\n",
    "from selenium.webdriver.common.by import By\n",
    "from selenium.webdriver.common.keys import Keys\n",
    "from webdriver_manager.chrome import ChromeDriverManager\n",
    "import time\n",
    "import warnings\n",
    "warnings.simplefilter(action='ignore', category=FutureWarning)\n",
    "from selenium import webdriver\n",
    "from selenium.webdriver import ActionChains\n",
    "from selenium.webdriver.chrome.options import Options"
   ]
  },
  {
   "cell_type": "markdown",
   "id": "1928fe1b",
   "metadata": {},
   "source": [
    "## get_urls()\n",
    "- gets the list of urls to detail pages"
   ]
  },
  {
   "cell_type": "code",
   "execution_count": 2,
   "id": "4650d631",
   "metadata": {},
   "outputs": [],
   "source": [
    "def get_urls():\n",
    "    page = 0\n",
    "    url_list = []\n",
    "    \n",
    "    response = requests.get('https://www.shinkim.com/kor/media/newsletter?page={}&size=10&keyword=&category=&biz-code=&member-code=&code=&gubun='.format(page))\n",
    "    root = lxml.html.fromstring(response.content)\n",
    "    \n",
    "    #find the maximum number of pages\n",
    "    max_page = int(root.xpath(\"//span[@class='total']\")[0].text)\n",
    "    \n",
    "    while(max_page > page):\n",
    "        response = requests.get('https://www.shinkim.com/kor/media/newsletter?page={}&size=10&keyword=&category=&biz-code=&member-code=&code=&gubun='.format(page))\n",
    "        root = lxml.html.fromstring(response.content)\n",
    "        time.sleep(0.5)\n",
    "        \n",
    "        li = root.xpath('//li[@class=\"post-item\"]')\n",
    "        for each in li:\n",
    "            a = each.xpath('div/div/div/p/a')[0]\n",
    "            url = 'https://www.shinkim.com' + a.get('href')\n",
    "            url_list.append(url)\n",
    "\n",
    "        if (len(url_list) >=0 & len(url_list)%10 == 0):\n",
    "            page += 1\n",
    "\n",
    "    return url_list"
   ]
  },
  {
   "cell_type": "markdown",
   "id": "0eca9239",
   "metadata": {},
   "source": [
    "## remove_punc()\n",
    "- removes punctuations from string"
   ]
  },
  {
   "cell_type": "code",
   "execution_count": 3,
   "id": "a031105b",
   "metadata": {},
   "outputs": [],
   "source": [
    "def remove_punc(data):\n",
    "\n",
    "    punc = '[!\"#$%&\\'()*+,-./:;<=>?[\\]^_`{|}~“”·「」△《》•‘’○※▷①②③④【】『∙』·-“”▲I]'\n",
    "    new_string = re.sub(punc, '', data) # 특수문자 제거\n",
    "    new_string2 = re.sub('\\n', ' ', new_string) # newline 제거\n",
    "    new_string3 = re.sub('\\\\s+', ' ', new_string2) # multiple spaces 제거\n",
    "    return new_string3"
   ]
  },
  {
   "cell_type": "markdown",
   "id": "484c4634",
   "metadata": {},
   "source": [
    "## db_save()\n",
    "- saves data as db file"
   ]
  },
  {
   "cell_type": "code",
   "execution_count": 4,
   "id": "0e4a96d1",
   "metadata": {},
   "outputs": [],
   "source": [
    "def db_save(ARTICLE_LIST, db_name, table_name):\n",
    "    with sq3.connect(os.path.join('.',db_name)) as con: # sqlite DB 파일이 존재하지 않는 경우 파일생성\n",
    "        try:\n",
    "            ARTICLE_LIST.to_sql(name = table_name, con = con, index = False, if_exists='replace') \n",
    "            #if_exists : {'fail', 'replace', 'append'} default : fail\n",
    "        except Exception as e:\n",
    "            print(str(e))\n",
    "        print(len(ARTICLE_LIST), '건 저장완료..')"
   ]
  },
  {
   "cell_type": "markdown",
   "id": "60739235",
   "metadata": {},
   "source": [
    "## db_select()\n",
    "- read data from db file"
   ]
  },
  {
   "cell_type": "code",
   "execution_count": 5,
   "id": "d848778d",
   "metadata": {},
   "outputs": [],
   "source": [
    "def db_select(db_name, table_name):\n",
    "    with sq3.connect(db_name) as con: \n",
    "        try:\n",
    "            query = 'SELECT * FROM {}'.format(table_name)\n",
    "            df = pd.read_sql(query, con = con)\n",
    "        except Exception as e:\n",
    "            print(str(e)) \n",
    "        return df"
   ]
  },
  {
   "cell_type": "code",
   "execution_count": 6,
   "id": "dcbd29b4",
   "metadata": {},
   "outputs": [],
   "source": [
    "def db_delete(db_name, table_name):\n",
    "    with sq3.connect(db_name) as con: \n",
    "        try:\n",
    "            cur = con.cursor()\n",
    "            sql = 'DELETE FROM {}'.format(table_name)\n",
    "            cur.execute(sql)\n",
    "        except Exception as e:\n",
    "            print(str(e))"
   ]
  },
  {
   "cell_type": "markdown",
   "id": "5c1f7aba",
   "metadata": {},
   "source": [
    "## get_info()\n",
    "- returns detailed information on the article pages as list"
   ]
  },
  {
   "cell_type": "code",
   "execution_count": 7,
   "id": "caee9d56",
   "metadata": {},
   "outputs": [],
   "source": [
    "def get_info(url):\n",
    "    details = []\n",
    "    articles = []\n",
    "    articleString = \"\"\n",
    "    \n",
    "    driver.get(url)\n",
    "    title = driver.find_element('xpath','//*[@id=\"content\"]/div[2]/div[1]/div[1]/div[1]/h4').text\n",
    "    date = driver.find_element('xpath','//*[@id=\"content\"]/div[2]/div[1]/div[1]/div[2]/span').text\n",
    "    topic = driver.find_element('xpath','//*[@id=\"content\"]/div[2]/div[1]/div[1]/div[1]/span').text\n",
    "    article = driver.find_elements('xpath','//*[@class=\"post-content main-text\"]/p')\n",
    "    \n",
    "    for each in article:\n",
    "        articles.append(each.text)\n",
    "    articleString = ' '.join(articles)\n",
    "    \n",
    "    driver.implicitly_wait(5)\n",
    "    \n",
    "    words = remove_punc(articleString)\n",
    "    details.append(title)\n",
    "    details.append(date)\n",
    "    details.append(topic)\n",
    "    details.append(words)\n",
    "    \n",
    "    return details"
   ]
  },
  {
   "cell_type": "markdown",
   "id": "71dd4079",
   "metadata": {},
   "source": [
    "## db_save_as_csv()\n",
    "- saves dataframe as csv"
   ]
  },
  {
   "cell_type": "code",
   "execution_count": 8,
   "id": "981d9e6f",
   "metadata": {},
   "outputs": [],
   "source": [
    "def db_save_as_csv(data):\n",
    "    data.to_csv(\"법무법인_세종_뉴스레터.csv\", index=False, encoding='utf-8')"
   ]
  },
  {
   "cell_type": "markdown",
   "id": "3beef7df",
   "metadata": {},
   "source": [
    "### ---------------------------------------------------------------------------------------------------------------------\n",
    "# Main\n",
    "This is the main part which uses functions to read articles and saves the data as csv file\n",
    "### ---------------------------------------------------------------------------------------------------------------------"
   ]
  },
  {
   "cell_type": "code",
   "execution_count": 9,
   "id": "b822b364",
   "metadata": {},
   "outputs": [
    {
     "name": "stdout",
     "output_type": "stream",
     "text": [
      "There are  910  urls in list.\n"
     ]
    },
    {
     "name": "stderr",
     "output_type": "stream",
     "text": [
      "C:\\Users\\user\\AppData\\Local\\Temp\\ipykernel_16176\\899453363.py:12: DeprecationWarning: executable_path has been deprecated, please pass in a Service object\n",
      "  driver = webdriver.Chrome('C:/Users/user/.wdm/drivers/chromedriver/win32/105.0.5195/chromedriver.exe', chrome_options = options) #드라이버경로 지정\n",
      "C:\\Users\\user\\AppData\\Local\\Temp\\ipykernel_16176\\899453363.py:12: DeprecationWarning: use options instead of chrome_options\n",
      "  driver = webdriver.Chrome('C:/Users/user/.wdm/drivers/chromedriver/win32/105.0.5195/chromedriver.exe', chrome_options = options) #드라이버경로 지정\n"
     ]
    },
    {
     "name": "stdout",
     "output_type": "stream",
     "text": [
      "910 건 저장완료..\n"
     ]
    }
   ],
   "source": [
    "urls = get_urls()\n",
    "df_list = []\n",
    "print(\"There are \",len(urls),\" urls in list.\")\n",
    "\n",
    "options = webdriver.ChromeOptions() \n",
    "#options.add_argument(\"--start-maximized\");  # Chrome 브라우저 최대화 설정\n",
    "options.add_argument('--headless')  # headless 모드\n",
    "options.add_argument('--disable-gpu')  # 그래픽 가속 해제 (오류 방지)\n",
    "#options.add_argument('--mute-audio')  # 음소거모드 적용\n",
    "\n",
    "#driver = webdriver.Chrome('service = Service(ChromeDriverManager().install())', options = options)\n",
    "driver = webdriver.Chrome('C:/Users/user/.wdm/drivers/chromedriver/win32/105.0.5195/chromedriver.exe', chrome_options = options) #드라이버경로 지정\n",
    "\n",
    "for url in urls:\n",
    "    details = get_info(url)\n",
    "    \n",
    "    df = pd.DataFrame([{\n",
    "        \"제목\": details[0],\n",
    "        \"날짜\": details[1],\n",
    "        \"주제\": details[2],\n",
    "        \"본문\": details[3]\n",
    "    }])\n",
    "    \n",
    "    df_list.append(df)\n",
    "    driver.implicitly_wait(4)\n",
    "\n",
    "ARTICLE_LIST = pd.concat(df_list)\n",
    "\n",
    "db_save(ARTICLE_LIST, '법무법인_세종_뉴스레터.db', '뉴스레터')\n",
    "db_save_as_csv(ARTICLE_LIST)\n",
    "\n",
    "driver.close()\n",
    "driver.quit()"
   ]
  },
  {
   "cell_type": "code",
   "execution_count": 10,
   "id": "b6e732d8",
   "metadata": {},
   "outputs": [
    {
     "data": {
      "text/html": [
       "<div>\n",
       "<style scoped>\n",
       "    .dataframe tbody tr th:only-of-type {\n",
       "        vertical-align: middle;\n",
       "    }\n",
       "\n",
       "    .dataframe tbody tr th {\n",
       "        vertical-align: top;\n",
       "    }\n",
       "\n",
       "    .dataframe thead th {\n",
       "        text-align: right;\n",
       "    }\n",
       "</style>\n",
       "<table border=\"1\" class=\"dataframe\">\n",
       "  <thead>\n",
       "    <tr style=\"text-align: right;\">\n",
       "      <th></th>\n",
       "      <th>제목</th>\n",
       "      <th>날짜</th>\n",
       "      <th>주제</th>\n",
       "      <th>본문</th>\n",
       "    </tr>\n",
       "  </thead>\n",
       "  <tbody>\n",
       "    <tr>\n",
       "      <th>0</th>\n",
       "      <td>Policy and Law Report_Vol.153 – 정부 주요 정책 및 입법정...</td>\n",
       "      <td>2022.09.20</td>\n",
       "      <td>입법전략자문</td>\n",
       "      <td>법무법인유 세종 입법전략자문팀Legislative and Government Aff...</td>\n",
       "    </tr>\n",
       "    <tr>\n",
       "      <th>1</th>\n",
       "      <td>순환자원으로 인정받을 수 있는 폐기물의 범위가 확대됩니다 - ‘자원순환기본법 시행령...</td>\n",
       "      <td>2022.09.16</td>\n",
       "      <td>환경</td>\n",
       "      <td>환경부는 순환자원 인정 요건 완화를 골자로 하는 자원순환기본법 시행령 일부개정안이하...</td>\n",
       "    </tr>\n",
       "    <tr>\n",
       "      <th>2</th>\n",
       "      <td>상속세 및 증여세법상 성실공익법인의 요건으로 전용계좌의 신고의무는 포함되지 않는다는...</td>\n",
       "      <td>2022.09.13</td>\n",
       "      <td>조세</td>\n",
       "      <td>최근 서울고등법원은 성실공익법인의 다른 요건을 갖춘 공익법인이 전용계좌를 개설하여 ...</td>\n",
       "    </tr>\n",
       "    <tr>\n",
       "      <th>3</th>\n",
       "      <td>검사의 수사개시 범위 관련 개정 대통령령(2022.9.10.자)의 주요 내용</td>\n",
       "      <td>2022.09.13</td>\n",
       "      <td>형사</td>\n",
       "      <td>2022 9 10 검사의 직접 수사개시 범위를 축소시키는 내용 등이 포함된 개정 형...</td>\n",
       "    </tr>\n",
       "    <tr>\n",
       "      <th>4</th>\n",
       "      <td>Policy and Law Report_Vol.152 – 정부 주요 정책 및 입법정...</td>\n",
       "      <td>2022.09.13</td>\n",
       "      <td>입법전략자문</td>\n",
       "      <td>법무법인유 세종 입법전략자문팀Legislative and Government Aff...</td>\n",
       "    </tr>\n",
       "    <tr>\n",
       "      <th>...</th>\n",
       "      <td>...</td>\n",
       "      <td>...</td>\n",
       "      <td>...</td>\n",
       "      <td>...</td>\n",
       "    </tr>\n",
       "    <tr>\n",
       "      <th>905</th>\n",
       "      <td>뉴스레터 Vol 65 | 2011</td>\n",
       "      <td>2011.02</td>\n",
       "      <td>General</td>\n",
       "      <td>뉴스레터 Vol 65 2011 자세한 내용은 우측 상단에 있는 PDF 파일을 다운로...</td>\n",
       "    </tr>\n",
       "    <tr>\n",
       "      <th>906</th>\n",
       "      <td>소득세법상 특수관계자간 상장주식 양도시 시가</td>\n",
       "      <td>2011.02</td>\n",
       "      <td>조세</td>\n",
       "      <td>2011년 1월 13일 대법원에서는 소득세법상 상장주식의 시가의 산정과 관련하여 중...</td>\n",
       "    </tr>\n",
       "    <tr>\n",
       "      <th>907</th>\n",
       "      <td>“미네르바”법 위헌결정과 기업법무에서의 시사점</td>\n",
       "      <td>2011.02</td>\n",
       "      <td>General</td>\n",
       "      <td>2008년 7월 글로벌 금융위기가 발생하였을 때 미네르바라는 필명의 한 인터넷 논객...</td>\n",
       "    </tr>\n",
       "    <tr>\n",
       "      <th>908</th>\n",
       "      <td>소위 ‘물량 몰아주기’에 관한 공정거래위원회의 심사기준 개정</td>\n",
       "      <td>2011.01</td>\n",
       "      <td>공정거래</td>\n",
       "      <td>공정거래위원회는 2010 12 22 부당한 지원행위 심사지침을 개정2011 1 1 ...</td>\n",
       "    </tr>\n",
       "    <tr>\n",
       "      <th>909</th>\n",
       "      <td>2011. 1. 24. 시행 보험업법 시행령 개정안 주요 내용</td>\n",
       "      <td>2011.01</td>\n",
       "      <td>보험</td>\n",
       "      <td>2010년 7월 23일 개정된 보험업법의 취지에 따라 개정된 동법 시행령이 금융위원...</td>\n",
       "    </tr>\n",
       "  </tbody>\n",
       "</table>\n",
       "<p>910 rows × 4 columns</p>\n",
       "</div>"
      ],
      "text/plain": [
       "                                                    제목          날짜       주제  \\\n",
       "0    Policy and Law Report_Vol.153 – 정부 주요 정책 및 입법정...  2022.09.20   입법전략자문   \n",
       "1    순환자원으로 인정받을 수 있는 폐기물의 범위가 확대됩니다 - ‘자원순환기본법 시행령...  2022.09.16       환경   \n",
       "2    상속세 및 증여세법상 성실공익법인의 요건으로 전용계좌의 신고의무는 포함되지 않는다는...  2022.09.13       조세   \n",
       "3           검사의 수사개시 범위 관련 개정 대통령령(2022.9.10.자)의 주요 내용  2022.09.13       형사   \n",
       "4    Policy and Law Report_Vol.152 – 정부 주요 정책 및 입법정...  2022.09.13   입법전략자문   \n",
       "..                                                 ...         ...      ...   \n",
       "905                                 뉴스레터 Vol 65 | 2011     2011.02  General   \n",
       "906                           소득세법상 특수관계자간 상장주식 양도시 시가     2011.02       조세   \n",
       "907                          “미네르바”법 위헌결정과 기업법무에서의 시사점     2011.02  General   \n",
       "908                  소위 ‘물량 몰아주기’에 관한 공정거래위원회의 심사기준 개정     2011.01     공정거래   \n",
       "909                 2011. 1. 24. 시행 보험업법 시행령 개정안 주요 내용     2011.01       보험   \n",
       "\n",
       "                                                    본문  \n",
       "0    법무법인유 세종 입법전략자문팀Legislative and Government Aff...  \n",
       "1    환경부는 순환자원 인정 요건 완화를 골자로 하는 자원순환기본법 시행령 일부개정안이하...  \n",
       "2    최근 서울고등법원은 성실공익법인의 다른 요건을 갖춘 공익법인이 전용계좌를 개설하여 ...  \n",
       "3    2022 9 10 검사의 직접 수사개시 범위를 축소시키는 내용 등이 포함된 개정 형...  \n",
       "4    법무법인유 세종 입법전략자문팀Legislative and Government Aff...  \n",
       "..                                                 ...  \n",
       "905  뉴스레터 Vol 65 2011 자세한 내용은 우측 상단에 있는 PDF 파일을 다운로...  \n",
       "906  2011년 1월 13일 대법원에서는 소득세법상 상장주식의 시가의 산정과 관련하여 중...  \n",
       "907  2008년 7월 글로벌 금융위기가 발생하였을 때 미네르바라는 필명의 한 인터넷 논객...  \n",
       "908  공정거래위원회는 2010 12 22 부당한 지원행위 심사지침을 개정2011 1 1 ...  \n",
       "909  2010년 7월 23일 개정된 보험업법의 취지에 따라 개정된 동법 시행령이 금융위원...  \n",
       "\n",
       "[910 rows x 4 columns]"
      ]
     },
     "execution_count": 10,
     "metadata": {},
     "output_type": "execute_result"
    }
   ],
   "source": [
    "df1 = db_select('법무법인_세종_뉴스레터.db', '뉴스레터')\n",
    "df1"
   ]
  }
 ],
 "metadata": {
  "kernelspec": {
   "display_name": "Python 3 (ipykernel)",
   "language": "python",
   "name": "python3"
  },
  "language_info": {
   "codemirror_mode": {
    "name": "ipython",
    "version": 3
   },
   "file_extension": ".py",
   "mimetype": "text/x-python",
   "name": "python",
   "nbconvert_exporter": "python",
   "pygments_lexer": "ipython3",
   "version": "3.9.12"
  }
 },
 "nbformat": 4,
 "nbformat_minor": 5
}
