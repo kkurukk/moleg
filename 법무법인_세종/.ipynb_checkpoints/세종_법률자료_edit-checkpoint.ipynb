{
 "cells": [
  {
   "cell_type": "markdown",
   "id": "e88604e2",
   "metadata": {},
   "source": [
    "# Selenium for 법무법인_태평양_법률자료"
   ]
  },
  {
   "cell_type": "markdown",
   "id": "120b3a2a",
   "metadata": {},
   "source": [
    "### Import Files"
   ]
  },
  {
   "cell_type": "code",
   "execution_count": 1,
   "id": "0a86f99d",
   "metadata": {},
   "outputs": [],
   "source": [
    "import requests\n",
    "import lxml.html\n",
    "import sqlite3 as sq3\n",
    "from pandas.io import sql\n",
    "import os\n",
    "import re\n",
    "import string\n",
    "import pandas as pd\n",
    "from tabulate import tabulate\n",
    "from selenium.webdriver import Chrome\n",
    "import time\n",
    "import warnings\n",
    "warnings.simplefilter(action='ignore', category=FutureWarning)\n",
    "from selenium import webdriver\n",
    "from selenium.webdriver import ActionChains\n",
    "import csv\n",
    "import numpy as np"
   ]
  },
  {
   "cell_type": "markdown",
   "id": "037dd106",
   "metadata": {},
   "source": [
    "## db methods\n",
    "- reads and writes data from and to db file"
   ]
  },
  {
   "cell_type": "code",
   "execution_count": 2,
   "id": "ed461de1",
   "metadata": {},
   "outputs": [],
   "source": [
    "def db_save(ARTICLE_LIST, db_name, table_name):\n",
    "    with sq3.connect(os.path.join('.',db_name)) as con: # sqlite DB 파일이 존재하지 않는 경우 파일생성\n",
    "        try:\n",
    "            ARTICLE_LIST.to_sql(name = table_name, con = con, index = False, if_exists='replace') \n",
    "            #if_exists : {'fail', 'replace', 'append'} default : fail\n",
    "        except Exception as e:\n",
    "            print(str(e))\n",
    "        print(len(ARTICLE_LIST), '건 저장완료..')"
   ]
  },
  {
   "cell_type": "code",
   "execution_count": 3,
   "id": "3b1886c8",
   "metadata": {},
   "outputs": [],
   "source": [
    "def db_select(db_name, table_name):\n",
    "    with sq3.connect(db_name) as con: \n",
    "        try:\n",
    "            query = 'SELECT * FROM {}'.format(table_name)\n",
    "            df = pd.read_sql(query, con = con)\n",
    "        except Exception as e:\n",
    "            print(str(e)) \n",
    "        return df"
   ]
  },
  {
   "cell_type": "markdown",
   "id": "198c7780",
   "metadata": {},
   "source": [
    "## reads the saved file and displays the result as a dataframe"
   ]
  },
  {
   "cell_type": "code",
   "execution_count": 4,
   "id": "72123ca4",
   "metadata": {
    "scrolled": false
   },
   "outputs": [],
   "source": [
    "document = db_select('법무법인_세종_뉴스레터.db', '뉴스레터')"
   ]
  },
  {
   "cell_type": "code",
   "execution_count": 5,
   "id": "8455f291",
   "metadata": {},
   "outputs": [
    {
     "data": {
      "text/plain": [
       "제목    False\n",
       "날짜    False\n",
       "주제    False\n",
       "본문    False\n",
       "dtype: bool"
      ]
     },
     "execution_count": 5,
     "metadata": {},
     "output_type": "execute_result"
    }
   ],
   "source": [
    "document.isna().any()"
   ]
  },
  {
   "cell_type": "markdown",
   "id": "adf71512",
   "metadata": {},
   "source": [
    "# nan values 정리끝!"
   ]
  },
  {
   "cell_type": "code",
   "execution_count": 6,
   "id": "c47aae7b",
   "metadata": {
    "scrolled": true
   },
   "outputs": [
    {
     "name": "stdout",
     "output_type": "stream",
     "text": [
      "910 건 저장완료..\n"
     ]
    }
   ],
   "source": [
    "ARTICLE_LIST = document.reset_index(drop=True)\n",
    "db_save(ARTICLE_LIST, '법무법인_세종_뉴스레터.db', '뉴스레터_nullcheck')"
   ]
  }
 ],
 "metadata": {
  "kernelspec": {
   "display_name": "Python 3 (ipykernel)",
   "language": "python",
   "name": "python3"
  },
  "language_info": {
   "codemirror_mode": {
    "name": "ipython",
    "version": 3
   },
   "file_extension": ".py",
   "mimetype": "text/x-python",
   "name": "python",
   "nbconvert_exporter": "python",
   "pygments_lexer": "ipython3",
   "version": "3.9.12"
  }
 },
 "nbformat": 4,
 "nbformat_minor": 5
}
