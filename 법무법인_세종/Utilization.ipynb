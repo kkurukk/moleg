{
 "cells": [
  {
   "cell_type": "code",
   "execution_count": 1,
   "id": "b3a4e6b8",
   "metadata": {},
   "outputs": [],
   "source": [
    "import pandas as pd\n",
    "import matplotlib.pyplot as plt\n",
    "%matplotlib inline\n",
    "from wordcloud import WordCloud\n",
    "from konlpy.tag import Hannanum\n",
    "from konlpy.tag import Okt\n",
    "from konlpy.tag import Komoran\n",
    "import sqlite3 as sq3\n",
    "from pandas.io import sql\n",
    "import os\n",
    "import numpy as np\n",
    "import math"
   ]
  },
  {
   "cell_type": "markdown",
   "id": "0edcba21",
   "metadata": {},
   "source": [
    "## read db file"
   ]
  },
  {
   "cell_type": "code",
   "execution_count": 2,
   "id": "d881fc63",
   "metadata": {},
   "outputs": [],
   "source": [
    "# 데이터베이스 저장\n",
    "def db_save(data, db_name, table_name):\n",
    "    with sq3.connect(os.path.join('.',db_name)) as con: # sqlite DB 파일이 존재하지 않는 경우 파일생성\n",
    "        try:\n",
    "            data.to_sql(name = table_name, con = con, index = False, if_exists='replace') \n",
    "            #if_exists : {'fail', 'replace', 'append'} default : fail\n",
    "        except Exception as e:\n",
    "            print(str(e))\n",
    "        print(len(data), '건 저장완료..')"
   ]
  },
  {
   "cell_type": "code",
   "execution_count": 3,
   "id": "0806092e",
   "metadata": {},
   "outputs": [],
   "source": [
    "# 데이터베이스 불러오기\n",
    "def db_select(db_name, table_name):\n",
    "    with sq3.connect(db_name) as con: \n",
    "        try:\n",
    "            query = 'SELECT * FROM {}'.format(table_name)\n",
    "            df = pd.read_sql(query, con = con)\n",
    "        except Exception as e:\n",
    "            print(str(e)) \n",
    "        return df  "
   ]
  },
  {
   "cell_type": "markdown",
   "id": "5a8ae2ef",
   "metadata": {},
   "source": [
    "### Save dictionaries"
   ]
  },
  {
   "cell_type": "code",
   "execution_count": 4,
   "id": "f59a8671",
   "metadata": {},
   "outputs": [],
   "source": [
    "import pickle"
   ]
  },
  {
   "cell_type": "code",
   "execution_count": 5,
   "id": "39f59315",
   "metadata": {},
   "outputs": [],
   "source": [
    "def saveDict(my_dict, file_name):\n",
    "    with open(file_name, \"wb\") as tf:\n",
    "        pickle.dump(my_dict,tf)\n",
    "    print(len(my_dict),' saved to file...')"
   ]
  },
  {
   "cell_type": "code",
   "execution_count": 6,
   "id": "2d6c300d",
   "metadata": {},
   "outputs": [],
   "source": [
    "def readDict(file_name):\n",
    "    new_dict = dict()\n",
    "    with open(file_name, \"rb\") as tf:\n",
    "        new_dict = pickle.load(tf)\n",
    "    return(new_dict)"
   ]
  },
  {
   "cell_type": "markdown",
   "id": "761a05b3",
   "metadata": {},
   "source": [
    "# save word tokens into a file"
   ]
  },
  {
   "cell_type": "code",
   "execution_count": 7,
   "id": "3f0081bc",
   "metadata": {
    "scrolled": false
   },
   "outputs": [
    {
     "data": {
      "text/html": [
       "<div>\n",
       "<style scoped>\n",
       "    .dataframe tbody tr th:only-of-type {\n",
       "        vertical-align: middle;\n",
       "    }\n",
       "\n",
       "    .dataframe tbody tr th {\n",
       "        vertical-align: top;\n",
       "    }\n",
       "\n",
       "    .dataframe thead th {\n",
       "        text-align: right;\n",
       "    }\n",
       "</style>\n",
       "<table border=\"1\" class=\"dataframe\">\n",
       "  <thead>\n",
       "    <tr style=\"text-align: right;\">\n",
       "      <th></th>\n",
       "      <th>제목</th>\n",
       "      <th>BoW</th>\n",
       "    </tr>\n",
       "  </thead>\n",
       "  <tbody>\n",
       "    <tr>\n",
       "      <th>0</th>\n",
       "      <td>Policy and Law Report_Vol.153 – 정부 주요 정책 및 입법정...</td>\n",
       "      <td>세종,입법전략자문팀Legislative,정책,입법,동향,레터,정부,국회,접수,의안현...</td>\n",
       "    </tr>\n",
       "    <tr>\n",
       "      <th>1</th>\n",
       "      <td>순환자원으로 인정받을 수 있는 폐기물의 범위가 확대됩니다 - ‘자원순환기본법 시행령...</td>\n",
       "      <td>환경부,순환자원,인정,요건,완화,골자,자원순환기본법,시행령,시행령,개정안,입법예고,...</td>\n",
       "    </tr>\n",
       "    <tr>\n",
       "      <th>2</th>\n",
       "      <td>상속세 및 증여세법상 성실공익법인의 요건으로 전용계좌의 신고의무는 포함되지 않는다는...</td>\n",
       "      <td>서울고등법원,성실공익법인,요건,공익법인,전용계좌,개설,사용,전용계좌,지연,사안,상속...</td>\n",
       "    </tr>\n",
       "    <tr>\n",
       "      <th>3</th>\n",
       "      <td>검사의 수사개시 범위 관련 개정 대통령령(2022.9.10.자)의 주요 내용</td>\n",
       "      <td>검사,수사개시,축소,개정,형사소송법,검찰청법,시행,대통령령,검사,수사개시,범죄,개정...</td>\n",
       "    </tr>\n",
       "    <tr>\n",
       "      <th>4</th>\n",
       "      <td>Policy and Law Report_Vol.152 – 정부 주요 정책 및 입법정...</td>\n",
       "      <td>세종,입법전략자문팀Legislative,정책,입법,동향,레터,정부,국회,접수,의안현...</td>\n",
       "    </tr>\n",
       "    <tr>\n",
       "      <th>...</th>\n",
       "      <td>...</td>\n",
       "      <td>...</td>\n",
       "    </tr>\n",
       "    <tr>\n",
       "      <th>903</th>\n",
       "      <td>상해에서 적격 외국유한파트너(QFLP)제도 시범실시</td>\n",
       "      <td>상해시금융서비스판공실上海市金融服务办公室,상해시,정부당국,본시,외상,투자지분투자기업,...</td>\n",
       "    </tr>\n",
       "    <tr>\n",
       "      <th>904</th>\n",
       "      <td>소득세법상 특수관계자간 상장주식 양도시 시가</td>\n",
       "      <td>대법원,소득세법상,상장주식,시가,산정,판결,본건판결,사안,개요,상장법인,최대주주,개...</td>\n",
       "    </tr>\n",
       "    <tr>\n",
       "      <th>905</th>\n",
       "      <td>“미네르바”법 위헌결정과 기업법무에서의 시사점</td>\n",
       "      <td>글로벌,금융위,미네르바라,필명,인터넷,논객,화제,다음Daum,아고라,경제토론방,우리...</td>\n",
       "    </tr>\n",
       "    <tr>\n",
       "      <th>906</th>\n",
       "      <td>소위 ‘물량 몰아주기’에 관한 공정거래위원회의 심사기준 개정</td>\n",
       "      <td>공정거래위원회,부당한,지원행위,심사지침,시행,현저한,규모,거래,부당지원행위일명,물량...</td>\n",
       "    </tr>\n",
       "    <tr>\n",
       "      <th>907</th>\n",
       "      <td>2011. 1. 24. 시행 보험업법 시행령 개정안 주요 내용</td>\n",
       "      <td>개정,보험업법,취지,개정,동법,시행령,금융위원회,입법예고절차,보험업법,시행,개정,정...</td>\n",
       "    </tr>\n",
       "  </tbody>\n",
       "</table>\n",
       "<p>908 rows × 2 columns</p>\n",
       "</div>"
      ],
      "text/plain": [
       "                                                    제목  \\\n",
       "0    Policy and Law Report_Vol.153 – 정부 주요 정책 및 입법정...   \n",
       "1    순환자원으로 인정받을 수 있는 폐기물의 범위가 확대됩니다 - ‘자원순환기본법 시행령...   \n",
       "2    상속세 및 증여세법상 성실공익법인의 요건으로 전용계좌의 신고의무는 포함되지 않는다는...   \n",
       "3           검사의 수사개시 범위 관련 개정 대통령령(2022.9.10.자)의 주요 내용   \n",
       "4    Policy and Law Report_Vol.152 – 정부 주요 정책 및 입법정...   \n",
       "..                                                 ...   \n",
       "903                       상해에서 적격 외국유한파트너(QFLP)제도 시범실시   \n",
       "904                           소득세법상 특수관계자간 상장주식 양도시 시가   \n",
       "905                          “미네르바”법 위헌결정과 기업법무에서의 시사점   \n",
       "906                  소위 ‘물량 몰아주기’에 관한 공정거래위원회의 심사기준 개정   \n",
       "907                 2011. 1. 24. 시행 보험업법 시행령 개정안 주요 내용   \n",
       "\n",
       "                                                   BoW  \n",
       "0    세종,입법전략자문팀Legislative,정책,입법,동향,레터,정부,국회,접수,의안현...  \n",
       "1    환경부,순환자원,인정,요건,완화,골자,자원순환기본법,시행령,시행령,개정안,입법예고,...  \n",
       "2    서울고등법원,성실공익법인,요건,공익법인,전용계좌,개설,사용,전용계좌,지연,사안,상속...  \n",
       "3    검사,수사개시,축소,개정,형사소송법,검찰청법,시행,대통령령,검사,수사개시,범죄,개정...  \n",
       "4    세종,입법전략자문팀Legislative,정책,입법,동향,레터,정부,국회,접수,의안현...  \n",
       "..                                                 ...  \n",
       "903  상해시금융서비스판공실上海市金融服务办公室,상해시,정부당국,본시,외상,투자지분투자기업,...  \n",
       "904  대법원,소득세법상,상장주식,시가,산정,판결,본건판결,사안,개요,상장법인,최대주주,개...  \n",
       "905  글로벌,금융위,미네르바라,필명,인터넷,논객,화제,다음Daum,아고라,경제토론방,우리...  \n",
       "906  공정거래위원회,부당한,지원행위,심사지침,시행,현저한,규모,거래,부당지원행위일명,물량...  \n",
       "907  개정,보험업법,취지,개정,동법,시행령,금융위원회,입법예고절차,보험업법,시행,개정,정...  \n",
       "\n",
       "[908 rows x 2 columns]"
      ]
     },
     "execution_count": 7,
     "metadata": {},
     "output_type": "execute_result"
    }
   ],
   "source": [
    "DB_NAME = '법무법인_세종_뉴스레터.db'\n",
    "TABLE_NAME = 'emerics_tokenized2'\n",
    "df = db_select(DB_NAME,TABLE_NAME)\n",
    "df1 = df.iloc[:,[0,4]].copy()\n",
    "df1"
   ]
  },
  {
   "cell_type": "markdown",
   "id": "6a70e900",
   "metadata": {},
   "source": [
    "# 단어의 총 등장 횟수 구하기 --> TF"
   ]
  },
  {
   "cell_type": "code",
   "execution_count": 8,
   "id": "1df3d3ad",
   "metadata": {},
   "outputs": [],
   "source": [
    "def dict_each(string):\n",
    "    each_art = dict()     # dictionary for each article\n",
    "    temp_list = []        # temporary list for the word tokens\n",
    "    \n",
    "    for i in string.split(','):\n",
    "        temp_list.append(i)\n",
    "\n",
    "    for each_t in temp_list:\n",
    "        if each_t in each_art.keys():\n",
    "            each_art[each_t] += 1\n",
    "        else :\n",
    "            each_art[each_t] = 1\n",
    "            \n",
    "    t_list = sorted(each_art.items(), key=lambda x:x[1], reverse=True)\n",
    "    each_TF = dict(t_list)\n",
    "    return each_TF"
   ]
  },
  {
   "cell_type": "code",
   "execution_count": 9,
   "id": "d9a5e227",
   "metadata": {},
   "outputs": [
    {
     "data": {
      "text/plain": [
       "908"
      ]
     },
     "execution_count": 9,
     "metadata": {},
     "output_type": "execute_result"
    }
   ],
   "source": [
    "total_TF = []\n",
    "\n",
    "for i in df1.iloc[:,1]:\n",
    "    tokens_const = []\n",
    "    total_TF.append(dict_each(i))\n",
    "\n",
    "len(total_TF)"
   ]
  },
  {
   "cell_type": "code",
   "execution_count": 10,
   "id": "dd89d322",
   "metadata": {},
   "outputs": [
    {
     "name": "stdout",
     "output_type": "stream",
     "text": [
      "908  saved to file...\n"
     ]
    }
   ],
   "source": [
    "saveDict(total_TF,'TF_file.pkl')\n",
    "#saveDict(total_TF,'TF-IDF_file.pkl')"
   ]
  },
  {
   "cell_type": "code",
   "execution_count": 11,
   "id": "7f576bf4",
   "metadata": {},
   "outputs": [],
   "source": [
    "TF_new = readDict('TF_file.pkl')\n",
    "DF = readDict('DF_file.pkl')"
   ]
  },
  {
   "cell_type": "markdown",
   "id": "a0303ccd",
   "metadata": {},
   "source": [
    "# TF-IDF\n",
    "##### 참고: https://brunch.co.kr/@bflysoft1117/127, https://www.researchgate.net/publication/342833072_gujojeog_topig_modelling-eul_hwal-yonghan_gong-gongdeiteo_suyo_bunseog_Analysis_of_Open_Government_Data_Demand_Using_Structural_Topic_Modeling\n",
    "높을수록 단어 중요도가 높다\n",
    "### TF-IDF = TF X log(N/DF)\n",
    "- TF: 문서 내 특정 단어의 빈도 수\n",
    "- N: 분석 대상 문서 통합\n",
    "- DF: 특정 단어를 포함하는 문서빈도 수"
   ]
  },
  {
   "cell_type": "code",
   "execution_count": 12,
   "id": "06245f47",
   "metadata": {},
   "outputs": [],
   "source": [
    "def TF_IDF_each(dct):\n",
    "    TF_IDF_i = dict()     # dictionary to save TF-IDF values\n",
    "    \n",
    "    for eachkey in list(dct.keys()):\n",
    "        TF_temp = dct[eachkey]\n",
    "        DF_temp = DF[eachkey]\n",
    "        TF_IDF_1 = TF_temp*math.log(N/DF_temp)\n",
    "        TF_IDF_i[eachkey] = TF_IDF_1\n",
    "\n",
    "    temp_tf_idf = sorted(TF_IDF_i.items(), key=lambda x:x[1], reverse=True)\n",
    "    TF_IDF_temp = dict(temp_tf_idf)\n",
    "    return TF_IDF_temp"
   ]
  },
  {
   "cell_type": "code",
   "execution_count": 13,
   "id": "a1b0aae1",
   "metadata": {
    "scrolled": true
   },
   "outputs": [],
   "source": [
    "TF_IDF = []     # dictionary to save TF-IDF values\n",
    "\n",
    "N = len(df1)\n",
    "for each_article in total_TF:\n",
    "    each_TI = TF_IDF_each(each_article)\n",
    "    TF_IDF.append(each_TI)"
   ]
  },
  {
   "cell_type": "markdown",
   "id": "7c536f5e",
   "metadata": {},
   "source": [
    "# Find the 10 keywords of the first article\n",
    "- ordered by importance"
   ]
  },
  {
   "cell_type": "code",
   "execution_count": 14,
   "id": "a44c3413",
   "metadata": {},
   "outputs": [],
   "source": [
    "def get_each_keywords(dictionary):\n",
    "    keyword_s = \"\"\n",
    "    \n",
    "    temp_list = sorted(dictionary.items(), key=lambda x:x[1], reverse=True)\n",
    "    temp_2 = dict(temp_list)\n",
    "    keywords = list(temp_2.keys())[:10]\n",
    "    keyword_s = ','.join(keywords)\n",
    "    \n",
    "    return keyword_s"
   ]
  },
  {
   "cell_type": "code",
   "execution_count": 19,
   "id": "f01f32a0",
   "metadata": {},
   "outputs": [
    {
     "data": {
      "text/html": [
       "<div>\n",
       "<style scoped>\n",
       "    .dataframe tbody tr th:only-of-type {\n",
       "        vertical-align: middle;\n",
       "    }\n",
       "\n",
       "    .dataframe tbody tr th {\n",
       "        vertical-align: top;\n",
       "    }\n",
       "\n",
       "    .dataframe thead th {\n",
       "        text-align: right;\n",
       "    }\n",
       "</style>\n",
       "<table border=\"1\" class=\"dataframe\">\n",
       "  <thead>\n",
       "    <tr style=\"text-align: right;\">\n",
       "      <th></th>\n",
       "      <th>제목</th>\n",
       "      <th>날짜</th>\n",
       "      <th>주제</th>\n",
       "      <th>본문</th>\n",
       "      <th>BoW</th>\n",
       "      <th>키워드10개</th>\n",
       "    </tr>\n",
       "  </thead>\n",
       "  <tbody>\n",
       "    <tr>\n",
       "      <th>0</th>\n",
       "      <td>Policy and Law Report_Vol.153 – 정부 주요 정책 및 입법정...</td>\n",
       "      <td>2022.09.20</td>\n",
       "      <td>입법전략자문</td>\n",
       "      <td>법무법인유 세종 입법전략자문팀Legislative and Government Aff...</td>\n",
       "      <td>세종,입법전략자문팀Legislative,정책,입법,동향,레터,정부,국회,접수,의안현...</td>\n",
       "      <td>법안,동향,정책,국회,입법전략자문팀Legislative,입법행정예고,입법,향후,출신,도움</td>\n",
       "    </tr>\n",
       "    <tr>\n",
       "      <th>1</th>\n",
       "      <td>순환자원으로 인정받을 수 있는 폐기물의 범위가 확대됩니다 - ‘자원순환기본법 시행령...</td>\n",
       "      <td>2022.09.16</td>\n",
       "      <td>환경</td>\n",
       "      <td>환경부는 순환자원 인정 요건 완화를 골자로 하는 자원순환기본법 시행령 일부개정안이하...</td>\n",
       "      <td>환경부,순환자원,인정,요건,완화,골자,자원순환기본법,시행령,시행령,개정안,입법예고,...</td>\n",
       "      <td>순환자원,폐기물,자원순환기본법,인정,시행령,요건,개정안,배출,인정제도,유상거래</td>\n",
       "    </tr>\n",
       "    <tr>\n",
       "      <th>2</th>\n",
       "      <td>상속세 및 증여세법상 성실공익법인의 요건으로 전용계좌의 신고의무는 포함되지 않는다는...</td>\n",
       "      <td>2022.09.13</td>\n",
       "      <td>조세</td>\n",
       "      <td>최근 서울고등법원은 성실공익법인의 다른 요건을 갖춘 공익법인이 전용계좌를 개설하여 ...</td>\n",
       "      <td>서울고등법원,성실공익법인,요건,공익법인,전용계좌,개설,사용,전용계좌,지연,사안,상속...</td>\n",
       "      <td>전용계좌,성실공익법인,상증세법,개설,엄격해석,초과보유,조세법률주의상,가산세,특수관계,원고</td>\n",
       "    </tr>\n",
       "    <tr>\n",
       "      <th>3</th>\n",
       "      <td>검사의 수사개시 범위 관련 개정 대통령령(2022.9.10.자)의 주요 내용</td>\n",
       "      <td>2022.09.13</td>\n",
       "      <td>형사</td>\n",
       "      <td>2022 9 10 검사의 직접 수사개시 범위를 축소시키는 내용 등이 포함된 개정 형...</td>\n",
       "      <td>검사,수사개시,축소,개정,형사소송법,검찰청법,시행,대통령령,검사,수사개시,범죄,개정...</td>\n",
       "      <td>범죄,수사개시,검사,경제범죄,부패범죄,수사,대통령령,검찰청법,형사소송법,개시</td>\n",
       "    </tr>\n",
       "    <tr>\n",
       "      <th>4</th>\n",
       "      <td>Policy and Law Report_Vol.152 – 정부 주요 정책 및 입법정...</td>\n",
       "      <td>2022.09.13</td>\n",
       "      <td>입법전략자문</td>\n",
       "      <td>법무법인유 세종 입법전략자문팀Legislative and Government Aff...</td>\n",
       "      <td>세종,입법전략자문팀Legislative,정책,입법,동향,레터,정부,국회,접수,의안현...</td>\n",
       "      <td>법안,동향,정책,국회,입법전략자문팀Legislative,입법행정예고,입법,향후,출신,도움</td>\n",
       "    </tr>\n",
       "    <tr>\n",
       "      <th>...</th>\n",
       "      <td>...</td>\n",
       "      <td>...</td>\n",
       "      <td>...</td>\n",
       "      <td>...</td>\n",
       "      <td>...</td>\n",
       "      <td>...</td>\n",
       "    </tr>\n",
       "    <tr>\n",
       "      <th>903</th>\n",
       "      <td>상해에서 적격 외국유한파트너(QFLP)제도 시범실시</td>\n",
       "      <td>2011.02</td>\n",
       "      <td>중국</td>\n",
       "      <td>2011년 1월 11일 상해시금융서비스판공실上海市金融服务办公室 등 상해시 관련 정부...</td>\n",
       "      <td>상해시금융서비스판공실上海市金融服务办公室,상해시,정부당국,본시,외상,투자지분투자기업,...</td>\n",
       "      <td>실시방법,중국,상해시,위안화,경외,사모펀드,상해,정부당국,시범실시,외자PE회사</td>\n",
       "    </tr>\n",
       "    <tr>\n",
       "      <th>904</th>\n",
       "      <td>소득세법상 특수관계자간 상장주식 양도시 시가</td>\n",
       "      <td>2011.02</td>\n",
       "      <td>조세</td>\n",
       "      <td>2011년 1월 13일 대법원에서는 소득세법상 상장주식의 시가의 산정과 관련하여 중...</td>\n",
       "      <td>대법원,소득세법상,상장주식,시가,산정,판결,본건판결,사안,개요,상장법인,최대주주,개...</td>\n",
       "      <td>시가,최종시세가액,상증세법,가액,한국거래소,법인세법,개인,양도,거래,상장주식</td>\n",
       "    </tr>\n",
       "    <tr>\n",
       "      <th>905</th>\n",
       "      <td>“미네르바”법 위헌결정과 기업법무에서의 시사점</td>\n",
       "      <td>2011.02</td>\n",
       "      <td>General</td>\n",
       "      <td>2008년 7월 글로벌 금융위기가 발생하였을 때 미네르바라는 필명의 한 인터넷 논객...</td>\n",
       "      <td>글로벌,금융위,미네르바라,필명,인터넷,논객,화제,다음Daum,아고라,경제토론방,우리...</td>\n",
       "      <td>공익,헌법재판소,미네르바,무죄판결,통신,전기통신기본법,규제법령,목적,추상적,파견근로자</td>\n",
       "    </tr>\n",
       "    <tr>\n",
       "      <th>906</th>\n",
       "      <td>소위 ‘물량 몰아주기’에 관한 공정거래위원회의 심사기준 개정</td>\n",
       "      <td>2011.01</td>\n",
       "      <td>공정거래</td>\n",
       "      <td>공정거래위원회는 2010 12 22 부당한 지원행위 심사지침을 개정2011 1 1 ...</td>\n",
       "      <td>공정거래위원회,부당한,지원행위,심사지침,시행,현저한,규모,거래,부당지원행위일명,물량...</td>\n",
       "      <td>지원행위,지원객체,현저한,규모,물량,거래,부당지원행위,공정거래위원회,지원주체,유리한</td>\n",
       "    </tr>\n",
       "    <tr>\n",
       "      <th>907</th>\n",
       "      <td>2011. 1. 24. 시행 보험업법 시행령 개정안 주요 내용</td>\n",
       "      <td>2011.01</td>\n",
       "      <td>보험</td>\n",
       "      <td>2010년 7월 23일 개정된 보험업법의 취지에 따라 개정된 동법 시행령이 금융위원...</td>\n",
       "      <td>개정,보험업법,취지,개정,동법,시행령,금융위원회,입법예고절차,보험업법,시행,개정,정...</td>\n",
       "      <td>보험회사,보험금,보험업법,권유시,보험계약자,보험판매,일반보험계약자,피권유자,신용위험...</td>\n",
       "    </tr>\n",
       "  </tbody>\n",
       "</table>\n",
       "<p>908 rows × 6 columns</p>\n",
       "</div>"
      ],
      "text/plain": [
       "                                                    제목          날짜       주제  \\\n",
       "0    Policy and Law Report_Vol.153 – 정부 주요 정책 및 입법정...  2022.09.20   입법전략자문   \n",
       "1    순환자원으로 인정받을 수 있는 폐기물의 범위가 확대됩니다 - ‘자원순환기본법 시행령...  2022.09.16       환경   \n",
       "2    상속세 및 증여세법상 성실공익법인의 요건으로 전용계좌의 신고의무는 포함되지 않는다는...  2022.09.13       조세   \n",
       "3           검사의 수사개시 범위 관련 개정 대통령령(2022.9.10.자)의 주요 내용  2022.09.13       형사   \n",
       "4    Policy and Law Report_Vol.152 – 정부 주요 정책 및 입법정...  2022.09.13   입법전략자문   \n",
       "..                                                 ...         ...      ...   \n",
       "903                       상해에서 적격 외국유한파트너(QFLP)제도 시범실시     2011.02       중국   \n",
       "904                           소득세법상 특수관계자간 상장주식 양도시 시가     2011.02       조세   \n",
       "905                          “미네르바”법 위헌결정과 기업법무에서의 시사점     2011.02  General   \n",
       "906                  소위 ‘물량 몰아주기’에 관한 공정거래위원회의 심사기준 개정     2011.01     공정거래   \n",
       "907                 2011. 1. 24. 시행 보험업법 시행령 개정안 주요 내용     2011.01       보험   \n",
       "\n",
       "                                                    본문  \\\n",
       "0    법무법인유 세종 입법전략자문팀Legislative and Government Aff...   \n",
       "1    환경부는 순환자원 인정 요건 완화를 골자로 하는 자원순환기본법 시행령 일부개정안이하...   \n",
       "2    최근 서울고등법원은 성실공익법인의 다른 요건을 갖춘 공익법인이 전용계좌를 개설하여 ...   \n",
       "3    2022 9 10 검사의 직접 수사개시 범위를 축소시키는 내용 등이 포함된 개정 형...   \n",
       "4    법무법인유 세종 입법전략자문팀Legislative and Government Aff...   \n",
       "..                                                 ...   \n",
       "903  2011년 1월 11일 상해시금융서비스판공실上海市金融服务办公室 등 상해시 관련 정부...   \n",
       "904  2011년 1월 13일 대법원에서는 소득세법상 상장주식의 시가의 산정과 관련하여 중...   \n",
       "905  2008년 7월 글로벌 금융위기가 발생하였을 때 미네르바라는 필명의 한 인터넷 논객...   \n",
       "906  공정거래위원회는 2010 12 22 부당한 지원행위 심사지침을 개정2011 1 1 ...   \n",
       "907  2010년 7월 23일 개정된 보험업법의 취지에 따라 개정된 동법 시행령이 금융위원...   \n",
       "\n",
       "                                                   BoW  \\\n",
       "0    세종,입법전략자문팀Legislative,정책,입법,동향,레터,정부,국회,접수,의안현...   \n",
       "1    환경부,순환자원,인정,요건,완화,골자,자원순환기본법,시행령,시행령,개정안,입법예고,...   \n",
       "2    서울고등법원,성실공익법인,요건,공익법인,전용계좌,개설,사용,전용계좌,지연,사안,상속...   \n",
       "3    검사,수사개시,축소,개정,형사소송법,검찰청법,시행,대통령령,검사,수사개시,범죄,개정...   \n",
       "4    세종,입법전략자문팀Legislative,정책,입법,동향,레터,정부,국회,접수,의안현...   \n",
       "..                                                 ...   \n",
       "903  상해시금융서비스판공실上海市金融服务办公室,상해시,정부당국,본시,외상,투자지분투자기업,...   \n",
       "904  대법원,소득세법상,상장주식,시가,산정,판결,본건판결,사안,개요,상장법인,최대주주,개...   \n",
       "905  글로벌,금융위,미네르바라,필명,인터넷,논객,화제,다음Daum,아고라,경제토론방,우리...   \n",
       "906  공정거래위원회,부당한,지원행위,심사지침,시행,현저한,규모,거래,부당지원행위일명,물량...   \n",
       "907  개정,보험업법,취지,개정,동법,시행령,금융위원회,입법예고절차,보험업법,시행,개정,정...   \n",
       "\n",
       "                                                키워드10개  \n",
       "0    법안,동향,정책,국회,입법전략자문팀Legislative,입법행정예고,입법,향후,출신,도움  \n",
       "1          순환자원,폐기물,자원순환기본법,인정,시행령,요건,개정안,배출,인정제도,유상거래  \n",
       "2    전용계좌,성실공익법인,상증세법,개설,엄격해석,초과보유,조세법률주의상,가산세,특수관계,원고  \n",
       "3           범죄,수사개시,검사,경제범죄,부패범죄,수사,대통령령,검찰청법,형사소송법,개시  \n",
       "4    법안,동향,정책,국회,입법전략자문팀Legislative,입법행정예고,입법,향후,출신,도움  \n",
       "..                                                 ...  \n",
       "903        실시방법,중국,상해시,위안화,경외,사모펀드,상해,정부당국,시범실시,외자PE회사  \n",
       "904         시가,최종시세가액,상증세법,가액,한국거래소,법인세법,개인,양도,거래,상장주식  \n",
       "905    공익,헌법재판소,미네르바,무죄판결,통신,전기통신기본법,규제법령,목적,추상적,파견근로자  \n",
       "906     지원행위,지원객체,현저한,규모,물량,거래,부당지원행위,공정거래위원회,지원주체,유리한  \n",
       "907  보험회사,보험금,보험업법,권유시,보험계약자,보험판매,일반보험계약자,피권유자,신용위험...  \n",
       "\n",
       "[908 rows x 6 columns]"
      ]
     },
     "execution_count": 19,
     "metadata": {},
     "output_type": "execute_result"
    }
   ],
   "source": [
    "TF_IDF_final = []\n",
    "\n",
    "for each in TF_IDF:\n",
    "    TF_IDF_final.append(get_each_keywords(each))\n",
    "    \n",
    "df['키워드10개'] = TF_IDF_final\n",
    "df_final = df.drop(['tokens','counts'], axis=1)\n",
    "df_final"
   ]
  },
  {
   "cell_type": "code",
   "execution_count": 20,
   "id": "2053af2f",
   "metadata": {},
   "outputs": [
    {
     "name": "stdout",
     "output_type": "stream",
     "text": [
      "908 건 저장완료..\n"
     ]
    }
   ],
   "source": [
    "db_save(df_final, DB_NAME, '키워드')"
   ]
  }
 ],
 "metadata": {
  "kernelspec": {
   "display_name": "Python 3 (ipykernel)",
   "language": "python",
   "name": "python3"
  },
  "language_info": {
   "codemirror_mode": {
    "name": "ipython",
    "version": 3
   },
   "file_extension": ".py",
   "mimetype": "text/x-python",
   "name": "python",
   "nbconvert_exporter": "python",
   "pygments_lexer": "ipython3",
   "version": "3.9.12"
  }
 },
 "nbformat": 4,
 "nbformat_minor": 5
}
